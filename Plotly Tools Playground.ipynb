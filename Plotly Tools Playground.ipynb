{
 "metadata": {
  "name": "",
  "signature": "sha256:26345e67f366c72fb0f142359634001be46a3979836656747bf99e25893f5d74"
 },
 "nbformat": 3,
 "nbformat_minor": 0,
 "worksheets": [
  {
   "cells": [
    {
     "cell_type": "code",
     "collapsed": false,
     "input": [
      "import plotlytools as pytls\n",
      "import pandas as pd\n",
      "import numpy as np\n",
      "import plotly.plotly as py\n",
      "from plotly.graph_objs import *\n",
      "from colors import *"
     ],
     "language": "python",
     "metadata": {},
     "outputs": [],
     "prompt_number": 253
    },
    {
     "cell_type": "code",
     "collapsed": false,
     "input": [
      "%load_ext autoreload\n",
      "%autoreload 2"
     ],
     "language": "python",
     "metadata": {},
     "outputs": [],
     "prompt_number": 1
    },
    {
     "cell_type": "code",
     "collapsed": false,
     "input": [
      "d=pd.DataFrame(np.random.randn(100,10),index=pd.date_range(start='1/1/2000',periods=100))"
     ],
     "language": "python",
     "metadata": {},
     "outputs": [],
     "prompt_number": 335
    },
    {
     "cell_type": "code",
     "collapsed": false,
     "input": [
      "d=d.cumsum()"
     ],
     "language": "python",
     "metadata": {},
     "outputs": [],
     "prompt_number": 336
    },
    {
     "cell_type": "code",
     "collapsed": false,
     "input": [
      "data=Data(d.to_iplot())"
     ],
     "language": "python",
     "metadata": {},
     "outputs": [],
     "prompt_number": 337
    },
    {
     "cell_type": "code",
     "collapsed": false,
     "input": [
      "layout=getLayout()"
     ],
     "language": "python",
     "metadata": {},
     "outputs": [
      {
       "ename": "NameError",
       "evalue": "name 'getLayout' is not defined",
       "output_type": "pyerr",
       "traceback": [
        "\u001b[0;31m---------------------------------------------------------------------------\u001b[0m\n\u001b[0;31mNameError\u001b[0m                                 Traceback (most recent call last)",
        "\u001b[0;32m<ipython-input-309-a013b03600db>\u001b[0m in \u001b[0;36m<module>\u001b[0;34m()\u001b[0m\n\u001b[0;32m----> 1\u001b[0;31m \u001b[0mlayout\u001b[0m\u001b[0;34m=\u001b[0m\u001b[0mgetLayout\u001b[0m\u001b[0;34m(\u001b[0m\u001b[0;34m)\u001b[0m\u001b[0;34m\u001b[0m\u001b[0m\n\u001b[0m",
        "\u001b[0;31mNameError\u001b[0m: name 'getLayout' is not defined"
       ]
      }
     ],
     "prompt_number": 309
    },
    {
     "cell_type": "code",
     "collapsed": false,
     "input": [
      "colorgen()"
     ],
     "language": "python",
     "metadata": {},
     "outputs": [
      {
       "metadata": {},
       "output_type": "pyout",
       "prompt_number": 190,
       "text": [
        "<generator object colorgen at 0x107579c30>"
       ]
      }
     ],
     "prompt_number": 190
    },
    {
     "cell_type": "code",
     "collapsed": false,
     "input": [
      "data=pytls.Data(d.to_iplot())"
     ],
     "language": "python",
     "metadata": {},
     "outputs": [],
     "prompt_number": 310
    },
    {
     "cell_type": "code",
     "collapsed": false,
     "input": [
      "layout=pytls.getLayout()"
     ],
     "language": "python",
     "metadata": {},
     "outputs": [],
     "prompt_number": 343
    },
    {
     "cell_type": "code",
     "collapsed": false,
     "input": [
      "layout"
     ],
     "language": "python",
     "metadata": {},
     "outputs": [
      {
       "metadata": {},
       "output_type": "pyout",
       "prompt_number": 344,
       "text": [
        "{'legend': {'bgcolor': '#151516', 'font': {'color': '#D9D9D9'}},\n",
        " 'paper_bgcolor': '#151516',\n",
        " 'plot_bgcolor': '#151516',\n",
        " 'titlefont': {'color': '#D9D9D9'},\n",
        " 'xaxis': {'gridcolor': '#434343',\n",
        "  'tickfont': {'color': '#C2C2C2'},\n",
        "  'title': ''},\n",
        " 'yaxis': {'gridcolor': '#434343',\n",
        "  'tickfont': {'color': '#C2C2C2'},\n",
        "  'title': '',\n",
        "  'titlefont': {'color': '#D9D9D9'}}}"
       ]
      }
     ],
     "prompt_number": 344
    },
    {
     "cell_type": "code",
     "collapsed": false,
     "input": [
      "layout=Layout(legend=Legend(bgcolor=white,font={'color':pearl06}),\n",
      "\t\t\t\t\t\tpaper_bgcolor=white,plot_bgcolor=white,\n",
      "\t\t\t\t\t  \tyaxis=YAxis(tickfont={'color':pearl06},gridcolor=pearl03,title='YAxis Title',\n",
      "\t\t\t\t\t\t\t\t  titlefont={'color':pearl06},zeroline=False),\n",
      "\t\t\t\t\t  \txaxis=XAxis(tickfont={'color':pearl06},gridcolor=pearl03,title='XAxis Title'))"
     ],
     "language": "python",
     "metadata": {},
     "outputs": [],
     "prompt_number": 243
    },
    {
     "cell_type": "code",
     "collapsed": false,
     "input": [
      "py.iplot(Figure(data=Data(data),layout=layout),world_readable=False,filename='test')"
     ],
     "language": "python",
     "metadata": {},
     "outputs": [
      {
       "application/pdf": "[encoded data removed]",
       "html": [
        "<iframe id=\"igraph\" scrolling=\"no\" style=\"border:none;\"seamless=\"seamless\" src=\"https://plot.ly/~jorgesantos/32\" height=\"525\" width=\"100%\"></iframe>"
       ],
       "jpeg": "[encoded data removed]",
       "metadata": {},
       "output_type": "pyout",
       "png": "[encoded data removed]",
       "prompt_number": 345,
       "svg": [
        "\n",
        "<!DOCTYPE html>\n",
        "<html lang=\"en\">\n",
        "<head>\n",
        "    <meta charset=\"UTF-8\">\n",
        "    <title>Plotly</title>\n",
        "    <link href=\"/static/img/ploticons/16px_444444_PNG/plot.png\" rel=\"shortcut icon\" />\n",
        "\n",
        "    \n",
        "\n",
        "\n",
        "<!-- css -->\n",
        "<link rel=\"stylesheet\" href=\"/static/CACHE/css/b37947501532.css\" type=\"text/css\" /><link rel=\"stylesheet\" href=\"/static/CACHE/css/bf4a488e83a1.css\" type=\"text/css\" media=\"all\" /><link rel=\"stylesheet\" href=\"/static/CACHE/css/5f4c0df098d7.css\" type=\"text/css\" />\n",
        "\n",
        "\n",
        "    <link href=\"//netdna.bootstrapcdn.com/font-awesome/3.2.1/css/font-awesome.css\" rel=\"stylesheet\" />\n",
        "    <link href=\"//fonts.googleapis.com/css?family=Open+Sans:600,400,300\" rel=\"stylesheet\" type=\"text/css\" />\n",
        "    <link href=\"//fonts.googleapis.com/css?family=Inconsolata\" rel=\"stylesheet\" type=\"text/css\" />\n",
        "    <link href=\"//fonts.googleapis.com/css?family=Ubuntu+Mono:400,700\" rel=\"stylesheet\" type=\"text/css\" />\n",
        "\n",
        "\n",
        "<script src=\"//d3nslu0hdya83q.cloudfront.net/dist/1.0/raven.min.js\"></script>\n",
        "<script type=\"text/javascript\" src=\"/static/js/plugins/prettify.min.js\"></script>\n",
        "<script type=\"text/javascript\" src=\"/static/js/plugins/prettify_matlab.min.js\"></script>\n",
        "<script type=\"text/javascript\" src=\"/static/js/plugins/prettify_r.min.js\"></script>\n",
        "\n",
        "\n",
        "<!-- mixpanel -->\n",
        "\n",
        "\n",
        "\n",
        "<!-- google analytics -->\n",
        "    <script type=\"text/javascript\">\n",
        "        var _gaq = _gaq || [];\n",
        "        _gaq.push(['_setAccount', 'UA-39373211-1']);\n",
        "        _gaq.push(['_setSiteSpeedSampleRate', 10]);\n",
        "        _gaq.push(['_trackPageview']);\n",
        "\n",
        "        (function() {\n",
        "            var ga = document.createElement('script'); ga.type = 'text/javascript'; ga.async = true;\n",
        "            ga.src = ('https:' == document.location.protocol ? 'https://' : 'http://') + 'stats.g.doubleclick.net/dc.js';\n",
        "            var s = document.getElementsByTagName('script')[0]; s.parentNode.insertBefore(ga, s);\n",
        "        })();\n",
        "    </script>\n",
        "\n",
        "\n",
        "\n",
        "    <style>\n",
        "        .page404 {\n",
        "            padding: 25px;\n",
        "\n",
        "            position: fixed;\n",
        "            top: 50%;\n",
        "            left: 50%;\n",
        "\n",
        "            -webkit-transform: translate(-50%, -50%);\n",
        "            -ms-transform: translate(-50%, -50%);\n",
        "            -o-transform: translate(-50%, -50%);\n",
        "            transform: translate(-50%, -50%);\n",
        "        }\n",
        "\n",
        "        .page404-image {\n",
        "            margin: 0 auto;\n",
        "            display: block;\n",
        "            max-width: 250px;\n",
        "        }\n",
        "    </style>\n",
        "\n",
        "</head>\n",
        "\n",
        "<body>\n",
        "\n",
        "    <div class=\"page404\">\n",
        "        <img class=\"page404-image\" src=\"/static/img/logos/logo.png\" />\n",
        "\n",
        "        <h2 class=\"heading delta\">\n",
        "        Oops! Looks like the graph does not exist.\n",
        "        </h2>\n",
        "    </div>\n",
        "\n",
        "</body>\n",
        "</html>\n"
       ],
       "text": [
        "<plotly.tools.PlotlyDisplay at 0x103853250>"
       ]
      }
     ],
     "prompt_number": 345
    },
    {
     "cell_type": "code",
     "collapsed": false,
     "input": [
      "py.iplot(Figure(data=Data(data),layout=layout),world_readable=False,filename='test')"
     ],
     "language": "python",
     "metadata": {},
     "outputs": [
      {
       "application/pdf": "[encoded data removed]",
       "html": [
        "<iframe id=\"igraph\" scrolling=\"no\" style=\"border:none;\"seamless=\"seamless\" src=\"https://plot.ly/~jorgesantos/32\" height=\"525\" width=\"100%\"></iframe>"
       ],
       "jpeg": "[encoded data removed]",
       "metadata": {},
       "output_type": "pyout",
       "png": "[encoded data removed]",
       "prompt_number": 230,
       "svg": [
        "\n",
        "<!DOCTYPE html>\n",
        "<html lang=\"en\">\n",
        "<head>\n",
        "    <meta charset=\"UTF-8\">\n",
        "    <title>Plotly</title>\n",
        "    <link href=\"/static/img/ploticons/16px_444444_PNG/plot.png\" rel=\"shortcut icon\" />\n",
        "\n",
        "    \n",
        "\n",
        "\n",
        "<!-- css -->\n",
        "<link rel=\"stylesheet\" href=\"/static/CACHE/css/b37947501532.css\" type=\"text/css\" /><link rel=\"stylesheet\" href=\"/static/CACHE/css/bf4a488e83a1.css\" type=\"text/css\" media=\"all\" /><link rel=\"stylesheet\" href=\"/static/CACHE/css/5f4c0df098d7.css\" type=\"text/css\" />\n",
        "\n",
        "\n",
        "    <link href=\"//netdna.bootstrapcdn.com/font-awesome/3.2.1/css/font-awesome.css\" rel=\"stylesheet\" />\n",
        "    <link href=\"//fonts.googleapis.com/css?family=Open+Sans:600,400,300\" rel=\"stylesheet\" type=\"text/css\" />\n",
        "    <link href=\"//fonts.googleapis.com/css?family=Inconsolata\" rel=\"stylesheet\" type=\"text/css\" />\n",
        "    <link href=\"//fonts.googleapis.com/css?family=Ubuntu+Mono:400,700\" rel=\"stylesheet\" type=\"text/css\" />\n",
        "\n",
        "\n",
        "<script src=\"//d3nslu0hdya83q.cloudfront.net/dist/1.0/raven.min.js\"></script>\n",
        "<script type=\"text/javascript\" src=\"/static/js/plugins/prettify.min.js\"></script>\n",
        "<script type=\"text/javascript\" src=\"/static/js/plugins/prettify_matlab.min.js\"></script>\n",
        "<script type=\"text/javascript\" src=\"/static/js/plugins/prettify_r.min.js\"></script>\n",
        "\n",
        "\n",
        "<!-- mixpanel -->\n",
        "\n",
        "\n",
        "\n",
        "<!-- google analytics -->\n",
        "    <script type=\"text/javascript\">\n",
        "        var _gaq = _gaq || [];\n",
        "        _gaq.push(['_setAccount', 'UA-39373211-1']);\n",
        "        _gaq.push(['_setSiteSpeedSampleRate', 10]);\n",
        "        _gaq.push(['_trackPageview']);\n",
        "\n",
        "        (function() {\n",
        "            var ga = document.createElement('script'); ga.type = 'text/javascript'; ga.async = true;\n",
        "            ga.src = ('https:' == document.location.protocol ? 'https://' : 'http://') + 'stats.g.doubleclick.net/dc.js';\n",
        "            var s = document.getElementsByTagName('script')[0]; s.parentNode.insertBefore(ga, s);\n",
        "        })();\n",
        "    </script>\n",
        "\n",
        "\n",
        "\n",
        "    <style>\n",
        "        .page404 {\n",
        "            padding: 25px;\n",
        "\n",
        "            position: fixed;\n",
        "            top: 50%;\n",
        "            left: 50%;\n",
        "\n",
        "            -webkit-transform: translate(-50%, -50%);\n",
        "            -ms-transform: translate(-50%, -50%);\n",
        "            -o-transform: translate(-50%, -50%);\n",
        "            transform: translate(-50%, -50%);\n",
        "        }\n",
        "\n",
        "        .page404-image {\n",
        "            margin: 0 auto;\n",
        "            display: block;\n",
        "            max-width: 250px;\n",
        "        }\n",
        "    </style>\n",
        "\n",
        "</head>\n",
        "\n",
        "<body>\n",
        "\n",
        "    <div class=\"page404\">\n",
        "        <img class=\"page404-image\" src=\"/static/img/logos/logo.png\" />\n",
        "\n",
        "        <h2 class=\"heading delta\">\n",
        "        Oops! Looks like the graph does not exist.\n",
        "        </h2>\n",
        "    </div>\n",
        "\n",
        "</body>\n",
        "</html>\n"
       ],
       "text": [
        "<plotly.tools.PlotlyDisplay at 0x107657e50>"
       ]
      }
     ],
     "prompt_number": 230
    },
    {
     "cell_type": "code",
     "collapsed": false,
     "input": [
      "layout"
     ],
     "language": "python",
     "metadata": {},
     "outputs": [
      {
       "metadata": {},
       "output_type": "pyout",
       "prompt_number": 342,
       "text": [
        "{'legend': {'bgcolor': '#151516', 'font': {'color': '#D9D9D9'}},\n",
        " 'paper_bgcolor': '#151516',\n",
        " 'plot_bgcolor': '#151516',\n",
        " 'titlefont': {'color': '#D9D9D9'},\n",
        " 'xaxis': {'gridcolor': '#434343',\n",
        "  'tickfont': {'color': '#C2C2C2'},\n",
        "  'title': None},\n",
        " 'yaxis': {'gridcolor': '#434343',\n",
        "  'tickfont': {'color': '#C2C2C2'},\n",
        "  'title': None,\n",
        "  'titlefont': {'color': '#D9D9D9'}}}"
       ]
      }
     ],
     "prompt_number": 342
    },
    {
     "cell_type": "code",
     "collapsed": false,
     "input": [
      "tickfont='rgb(102, 102, 102)'"
     ],
     "language": "python",
     "metadata": {},
     "outputs": [],
     "prompt_number": 26
    },
    {
     "cell_type": "code",
     "collapsed": false,
     "input": [
      "d.iplot(theme='solar')"
     ],
     "language": "python",
     "metadata": {},
     "outputs": [
      {
       "application/pdf": "[encoded data removed]",
       "html": [
        "<iframe id=\"igraph\" scrolling=\"no\" style=\"border:none;\"seamless=\"seamless\" src=\"https://plot.ly/~jorgesantos/33\" height=\"525\" width=\"100%\"></iframe>"
       ],
       "jpeg": "[encoded data removed]",
       "metadata": {},
       "output_type": "pyout",
       "png": "[encoded data removed]",
       "prompt_number": 248,
       "svg": [
        "\n",
        "<!DOCTYPE html>\n",
        "<html lang=\"en\">\n",
        "<head>\n",
        "    <meta charset=\"UTF-8\">\n",
        "    <title>Plotly</title>\n",
        "    <link href=\"/static/img/ploticons/16px_444444_PNG/plot.png\" rel=\"shortcut icon\" />\n",
        "\n",
        "    \n",
        "\n",
        "\n",
        "<!-- css -->\n",
        "<link rel=\"stylesheet\" href=\"/static/CACHE/css/b37947501532.css\" type=\"text/css\" /><link rel=\"stylesheet\" href=\"/static/CACHE/css/bf4a488e83a1.css\" type=\"text/css\" media=\"all\" /><link rel=\"stylesheet\" href=\"/static/CACHE/css/5f4c0df098d7.css\" type=\"text/css\" />\n",
        "\n",
        "\n",
        "    <link href=\"//netdna.bootstrapcdn.com/font-awesome/3.2.1/css/font-awesome.css\" rel=\"stylesheet\" />\n",
        "    <link href=\"//fonts.googleapis.com/css?family=Open+Sans:600,400,300\" rel=\"stylesheet\" type=\"text/css\" />\n",
        "    <link href=\"//fonts.googleapis.com/css?family=Inconsolata\" rel=\"stylesheet\" type=\"text/css\" />\n",
        "    <link href=\"//fonts.googleapis.com/css?family=Ubuntu+Mono:400,700\" rel=\"stylesheet\" type=\"text/css\" />\n",
        "\n",
        "\n",
        "<script src=\"//d3nslu0hdya83q.cloudfront.net/dist/1.0/raven.min.js\"></script>\n",
        "<script type=\"text/javascript\" src=\"/static/js/plugins/prettify.min.js\"></script>\n",
        "<script type=\"text/javascript\" src=\"/static/js/plugins/prettify_matlab.min.js\"></script>\n",
        "<script type=\"text/javascript\" src=\"/static/js/plugins/prettify_r.min.js\"></script>\n",
        "\n",
        "\n",
        "<!-- mixpanel -->\n",
        "\n",
        "\n",
        "\n",
        "<!-- google analytics -->\n",
        "    <script type=\"text/javascript\">\n",
        "        var _gaq = _gaq || [];\n",
        "        _gaq.push(['_setAccount', 'UA-39373211-1']);\n",
        "        _gaq.push(['_setSiteSpeedSampleRate', 10]);\n",
        "        _gaq.push(['_trackPageview']);\n",
        "\n",
        "        (function() {\n",
        "            var ga = document.createElement('script'); ga.type = 'text/javascript'; ga.async = true;\n",
        "            ga.src = ('https:' == document.location.protocol ? 'https://' : 'http://') + 'stats.g.doubleclick.net/dc.js';\n",
        "            var s = document.getElementsByTagName('script')[0]; s.parentNode.insertBefore(ga, s);\n",
        "        })();\n",
        "    </script>\n",
        "\n",
        "\n",
        "\n",
        "    <style>\n",
        "        .page404 {\n",
        "            padding: 25px;\n",
        "\n",
        "            position: fixed;\n",
        "            top: 50%;\n",
        "            left: 50%;\n",
        "\n",
        "            -webkit-transform: translate(-50%, -50%);\n",
        "            -ms-transform: translate(-50%, -50%);\n",
        "            -o-transform: translate(-50%, -50%);\n",
        "            transform: translate(-50%, -50%);\n",
        "        }\n",
        "\n",
        "        .page404-image {\n",
        "            margin: 0 auto;\n",
        "            display: block;\n",
        "            max-width: 250px;\n",
        "        }\n",
        "    </style>\n",
        "\n",
        "</head>\n",
        "\n",
        "<body>\n",
        "\n",
        "    <div class=\"page404\">\n",
        "        <img class=\"page404-image\" src=\"/static/img/logos/logo.png\" />\n",
        "\n",
        "        <h2 class=\"heading delta\">\n",
        "        Oops! Looks like the graph does not exist.\n",
        "        </h2>\n",
        "    </div>\n",
        "\n",
        "</body>\n",
        "</html>\n"
       ],
       "text": [
        "<plotly.tools.PlotlyDisplay at 0x1075faf50>"
       ]
      }
     ],
     "prompt_number": 248
    },
    {
     "cell_type": "code",
     "collapsed": false,
     "input": [
      "eval(tickfont.replace('rgb','')),.1"
     ],
     "language": "python",
     "metadata": {},
     "outputs": [
      {
       "metadata": {},
       "output_type": "pyout",
       "prompt_number": 40,
       "text": [
        "((102, 102, 102), 0.1)"
       ]
      }
     ],
     "prompt_number": 40
    },
    {
     "cell_type": "code",
     "collapsed": false,
     "input": [
      "r,g,b=tt"
     ],
     "language": "python",
     "metadata": {},
     "outputs": [],
     "prompt_number": 37
    },
    {
     "cell_type": "code",
     "collapsed": false,
     "input": [
      "str((r,g,b,.1))"
     ],
     "language": "python",
     "metadata": {},
     "outputs": [
      {
       "metadata": {},
       "output_type": "pyout",
       "prompt_number": 39,
       "text": [
        "'(102, 102, 102, 0.1)'"
       ]
      }
     ],
     "prompt_number": 39
    },
    {
     "cell_type": "code",
     "collapsed": false,
     "input": [
      "def rgb_to_rgba(color,alpha):\n",
      "    color=color.lower()\n",
      "    if 'rgba' in color:\n",
      "        cl=list(eval(color.replace('rgba','')))\n",
      "        cl[3]=alpha\n",
      "        return 'rgba'+str(tuple(cl))\n",
      "    elif 'rgb' in color:\n",
      "        r,g,b=eval(color.replace('rgb',''))\n",
      "        return 'rgba'+str((r,g,b,alpha))\n",
      "    else:\n",
      "        pass"
     ],
     "language": "python",
     "metadata": {},
     "outputs": [],
     "prompt_number": 55
    },
    {
     "cell_type": "code",
     "collapsed": false,
     "input": [
      "rgb_to_rgba('rgb(102, 102, 102)',.5)"
     ],
     "language": "python",
     "metadata": {},
     "outputs": [
      {
       "metadata": {},
       "output_type": "pyout",
       "prompt_number": 57,
       "text": [
        "'rgba(102, 102, 102, 0.5)'"
       ]
      }
     ],
     "prompt_number": 57
    },
    {
     "cell_type": "code",
     "collapsed": false,
     "input": [
      "blue='#3780bf'\n",
      "#blue=blue[1:]"
     ],
     "language": "python",
     "metadata": {},
     "outputs": [],
     "prompt_number": 63
    },
    {
     "cell_type": "code",
     "collapsed": false,
     "input": [
      "blue"
     ],
     "language": "python",
     "metadata": {},
     "outputs": [
      {
       "metadata": {},
       "output_type": "pyout",
       "prompt_number": 60,
       "text": [
        "'3780bf'"
       ]
      }
     ],
     "prompt_number": 60
    },
    {
     "cell_type": "code",
     "collapsed": false,
     "input": [
      "tuple(ord(c) for c in blue.decode('hex'))"
     ],
     "language": "python",
     "metadata": {},
     "outputs": [
      {
       "metadata": {},
       "output_type": "pyout",
       "prompt_number": 61,
       "text": [
        "(55, 128, 191)"
       ]
      }
     ],
     "prompt_number": 61
    },
    {
     "cell_type": "code",
     "collapsed": false,
     "input": [
      "def hex_to_rgb(hexcolor):\n",
      "    color=hexcolor[1:]\n",
      "    return 'rgb'+str(tuple(ord(c) for c in color.decode('hex')))"
     ],
     "language": "python",
     "metadata": {},
     "outputs": [],
     "prompt_number": 62
    },
    {
     "cell_type": "code",
     "collapsed": false,
     "input": [
      "hex_to_rgb(blue)"
     ],
     "language": "python",
     "metadata": {},
     "outputs": [
      {
       "metadata": {},
       "output_type": "pyout",
       "prompt_number": 64,
       "text": [
        "'rgb(55, 128, 191)'"
       ]
      }
     ],
     "prompt_number": 64
    },
    {
     "cell_type": "code",
     "collapsed": false,
     "input": [
      "''.join([x*2 for x in list('f08')])"
     ],
     "language": "python",
     "metadata": {},
     "outputs": [
      {
       "metadata": {},
       "output_type": "pyout",
       "prompt_number": 69,
       "text": [
        "'ff0088'"
       ]
      }
     ],
     "prompt_number": 69
    },
    {
     "cell_type": "code",
     "collapsed": false,
     "input": [
      "def normalize(color):\n",
      "    color=color[1:]\n",
      "    return '#'+''.join([x*2 for x in list('f08')])"
     ],
     "language": "python",
     "metadata": {},
     "outputs": [],
     "prompt_number": 70
    },
    {
     "cell_type": "code",
     "collapsed": false,
     "input": [
      "normalize('#f08')"
     ],
     "language": "python",
     "metadata": {},
     "outputs": [
      {
       "metadata": {},
       "output_type": "pyout",
       "prompt_number": 71,
       "text": [
        "'#ff0088'"
       ]
      }
     ],
     "prompt_number": 71
    },
    {
     "cell_type": "code",
     "collapsed": false,
     "input": [
      "import colors"
     ],
     "language": "python",
     "metadata": {},
     "outputs": [],
     "prompt_number": 72
    },
    {
     "cell_type": "code",
     "collapsed": false,
     "input": [
      "colors.rgb_to_rgba('#f08',.3)"
     ],
     "language": "python",
     "metadata": {},
     "outputs": [
      {
       "metadata": {},
       "output_type": "pyout",
       "prompt_number": 76,
       "text": [
        "'rgba(255, 0, 136, 0.3)'"
       ]
      }
     ],
     "prompt_number": 76
    },
    {
     "cell_type": "code",
     "collapsed": false,
     "input": [
      "rgb=(20,20,20)\n",
      "\"\".join(map(chr, rgb)).encode('hex')"
     ],
     "language": "python",
     "metadata": {},
     "outputs": [
      {
       "metadata": {},
       "output_type": "pyout",
       "prompt_number": 77,
       "text": [
        "'141414'"
       ]
      }
     ],
     "prompt_number": 77
    },
    {
     "cell_type": "code",
     "collapsed": false,
     "input": [
      "def rgb_to_hex(color):\n",
      "    rgb=eval(color.replace('rgb',''))\n",
      "    return '#'+''.join(map(chr, rgb)).encode('hex')"
     ],
     "language": "python",
     "metadata": {},
     "outputs": [],
     "prompt_number": 81
    },
    {
     "cell_type": "code",
     "collapsed": false,
     "input": [
      "rgb_to_hex(colors.tickfont)"
     ],
     "language": "python",
     "metadata": {},
     "outputs": [
      {
       "metadata": {},
       "output_type": "pyout",
       "prompt_number": 82,
       "text": [
        "'#666666'"
       ]
      }
     ],
     "prompt_number": 82
    },
    {
     "cell_type": "code",
     "collapsed": false,
     "input": [
      "colors.rgb_to_hex(colors.tickfont)"
     ],
     "language": "python",
     "metadata": {},
     "outputs": [
      {
       "metadata": {},
       "output_type": "pyout",
       "prompt_number": 88,
       "text": [
        "'#666666'"
       ]
      }
     ],
     "prompt_number": 88
    },
    {
     "cell_type": "code",
     "collapsed": false,
     "input": [
      "import collections"
     ],
     "language": "python",
     "metadata": {},
     "outputs": [],
     "prompt_number": 130
    },
    {
     "cell_type": "code",
     "collapsed": false,
     "input": [
      "dq=collections.deque([colors.orange,colors.blue,colors.green])"
     ],
     "language": "python",
     "metadata": {},
     "outputs": [],
     "prompt_number": 133
    },
    {
     "cell_type": "code",
     "collapsed": false,
     "input": [
      "dq"
     ],
     "language": "python",
     "metadata": {},
     "outputs": [
      {
       "metadata": {},
       "output_type": "pyout",
       "prompt_number": 134,
       "text": [
        "deque(['#ff9933', '#3780bf', '#32ab60'])"
       ]
      }
     ],
     "prompt_number": 134
    },
    {
     "cell_type": "code",
     "collapsed": false,
     "input": [
      "def colorgen():\n",
      "    for i in np.arange(0,1,.1):\n",
      "        for y in dq:\n",
      "            yield colors.to_rgba(y,1-i)\n",
      "        dq.rotate()\n",
      "        "
     ],
     "language": "python",
     "metadata": {},
     "outputs": [],
     "prompt_number": 160
    },
    {
     "cell_type": "code",
     "collapsed": false,
     "input": [
      "a=colorgen()"
     ],
     "language": "python",
     "metadata": {},
     "outputs": [],
     "prompt_number": 161
    },
    {
     "cell_type": "code",
     "collapsed": false,
     "input": [
      "a.next()"
     ],
     "language": "python",
     "metadata": {},
     "outputs": [
      {
       "metadata": {},
       "output_type": "pyout",
       "prompt_number": 187,
       "text": [
        "'rgba(255, 153, 51, 0.19999999999999996)'"
       ]
      }
     ],
     "prompt_number": 187
    },
    {
     "cell_type": "code",
     "collapsed": false,
     "input": [
      "import numpy as np"
     ],
     "language": "python",
     "metadata": {},
     "outputs": [],
     "prompt_number": 137
    },
    {
     "cell_type": "code",
     "collapsed": false,
     "input": [
      "for i in range(3):\n",
      "    a.next()"
     ],
     "language": "python",
     "metadata": {},
     "outputs": [
      {
       "ename": "StopIteration",
       "evalue": "",
       "output_type": "pyerr",
       "traceback": [
        "\u001b[0;31m---------------------------------------------------------------------------\u001b[0m\n\u001b[0;31mStopIteration\u001b[0m                             Traceback (most recent call last)",
        "\u001b[0;32m<ipython-input-145-1f6242124566>\u001b[0m in \u001b[0;36m<module>\u001b[0;34m()\u001b[0m\n\u001b[1;32m      1\u001b[0m \u001b[0;32mfor\u001b[0m \u001b[0mi\u001b[0m \u001b[0;32min\u001b[0m \u001b[0mrange\u001b[0m\u001b[0;34m(\u001b[0m\u001b[0;36m3\u001b[0m\u001b[0;34m)\u001b[0m\u001b[0;34m:\u001b[0m\u001b[0;34m\u001b[0m\u001b[0m\n\u001b[0;32m----> 2\u001b[0;31m     \u001b[0ma\u001b[0m\u001b[0;34m.\u001b[0m\u001b[0mnext\u001b[0m\u001b[0;34m(\u001b[0m\u001b[0;34m)\u001b[0m\u001b[0;34m\u001b[0m\u001b[0m\n\u001b[0m",
        "\u001b[0;31mStopIteration\u001b[0m: "
       ]
      }
     ],
     "prompt_number": 145
    },
    {
     "cell_type": "code",
     "collapsed": false,
     "input": [
      "rgb_to_hex('rgb(234,231,228)').upper()"
     ],
     "language": "python",
     "metadata": {},
     "outputs": [
      {
       "metadata": {},
       "output_type": "pyout",
       "prompt_number": 236,
       "text": [
        "'#EAE7E4'"
       ]
      }
     ],
     "prompt_number": 236
    },
    {
     "cell_type": "code",
     "collapsed": false,
     "input": [
      "df=pd.DataFrame(np.random.randint(1,10,200))"
     ],
     "language": "python",
     "metadata": {},
     "outputs": [],
     "prompt_number": 374
    },
    {
     "cell_type": "code",
     "collapsed": false,
     "input": [
      "data=df[0].value_counts().to_iplot(kind='bar')"
     ],
     "language": "python",
     "metadata": {},
     "outputs": [],
     "prompt_number": 386
    },
    {
     "cell_type": "code",
     "collapsed": false,
     "input": [
      "data[0]['type']='bar'"
     ],
     "language": "python",
     "metadata": {},
     "outputs": [],
     "prompt_number": 368
    },
    {
     "cell_type": "code",
     "collapsed": false,
     "input": [
      "data"
     ],
     "language": "python",
     "metadata": {},
     "outputs": [
      {
       "metadata": {},
       "output_type": "pyout",
       "prompt_number": 387,
       "text": [
        "[{'line': {'color': 'rgba(255, 153, 51, 1.0)', 'width': 3},\n",
        "  'marker': {'color': 'rgba(255, 153, 51, 0.56)',\n",
        "   'line': {'color': 'rgba(255, 153, 51, 1.0)', 'width': 1}},\n",
        "  'name': 'Series1',\n",
        "  'type': 'bar',\n",
        "  'x': array([2, 4, 3, 7, 5, 6, 1, 9, 8]),\n",
        "  'y': array([31, 25, 25, 23, 23, 22, 19, 16, 16])}]"
       ]
      }
     ],
     "prompt_number": 387
    },
    {
     "cell_type": "code",
     "collapsed": false,
     "input": [
      "layout=pytls.getLayout()"
     ],
     "language": "python",
     "metadata": {},
     "outputs": [],
     "prompt_number": 355
    },
    {
     "cell_type": "code",
     "collapsed": false,
     "input": [
      "layout['title']='bar chart'"
     ],
     "language": "python",
     "metadata": {},
     "outputs": [],
     "prompt_number": 356
    },
    {
     "cell_type": "code",
     "collapsed": false,
     "input": [
      "py.iplot(Figure(data=data,layout=layout),world_readable=False,filename='test')"
     ],
     "language": "python",
     "metadata": {},
     "outputs": [
      {
       "application/pdf": "[encoded data removed]",
       "html": [
        "<iframe id=\"igraph\" scrolling=\"no\" style=\"border:none;\"seamless=\"seamless\" src=\"https://plot.ly/~jorgesantos/32\" height=\"525\" width=\"100%\"></iframe>"
       ],
       "jpeg": "[encoded data removed]",
       "metadata": {},
       "output_type": "pyout",
       "png": "[encoded data removed]",
       "prompt_number": 388,
       "svg": [
        "\n",
        "<!DOCTYPE html>\n",
        "<html lang=\"en\">\n",
        "<head>\n",
        "    <meta charset=\"UTF-8\">\n",
        "    <title>Plotly</title>\n",
        "    <link href=\"/static/img/ploticons/16px_444444_PNG/plot.png\" rel=\"shortcut icon\" />\n",
        "\n",
        "    \n",
        "\n",
        "\n",
        "<!-- css -->\n",
        "<link rel=\"stylesheet\" href=\"/static/CACHE/css/b37947501532.css\" type=\"text/css\" /><link rel=\"stylesheet\" href=\"/static/CACHE/css/bf4a488e83a1.css\" type=\"text/css\" media=\"all\" /><link rel=\"stylesheet\" href=\"/static/CACHE/css/5f4c0df098d7.css\" type=\"text/css\" />\n",
        "\n",
        "\n",
        "    <link href=\"//netdna.bootstrapcdn.com/font-awesome/3.2.1/css/font-awesome.css\" rel=\"stylesheet\" />\n",
        "    <link href=\"//fonts.googleapis.com/css?family=Open+Sans:600,400,300\" rel=\"stylesheet\" type=\"text/css\" />\n",
        "    <link href=\"//fonts.googleapis.com/css?family=Inconsolata\" rel=\"stylesheet\" type=\"text/css\" />\n",
        "    <link href=\"//fonts.googleapis.com/css?family=Ubuntu+Mono:400,700\" rel=\"stylesheet\" type=\"text/css\" />\n",
        "\n",
        "\n",
        "<script src=\"//d3nslu0hdya83q.cloudfront.net/dist/1.0/raven.min.js\"></script>\n",
        "<script type=\"text/javascript\" src=\"/static/js/plugins/prettify.min.js\"></script>\n",
        "<script type=\"text/javascript\" src=\"/static/js/plugins/prettify_matlab.min.js\"></script>\n",
        "<script type=\"text/javascript\" src=\"/static/js/plugins/prettify_r.min.js\"></script>\n",
        "\n",
        "\n",
        "<!-- mixpanel -->\n",
        "\n",
        "\n",
        "\n",
        "<!-- google analytics -->\n",
        "    <script type=\"text/javascript\">\n",
        "        var _gaq = _gaq || [];\n",
        "        _gaq.push(['_setAccount', 'UA-39373211-1']);\n",
        "        _gaq.push(['_setSiteSpeedSampleRate', 10]);\n",
        "        _gaq.push(['_trackPageview']);\n",
        "\n",
        "        (function() {\n",
        "            var ga = document.createElement('script'); ga.type = 'text/javascript'; ga.async = true;\n",
        "            ga.src = ('https:' == document.location.protocol ? 'https://' : 'http://') + 'stats.g.doubleclick.net/dc.js';\n",
        "            var s = document.getElementsByTagName('script')[0]; s.parentNode.insertBefore(ga, s);\n",
        "        })();\n",
        "    </script>\n",
        "\n",
        "\n",
        "\n",
        "    <style>\n",
        "        .page404 {\n",
        "            padding: 25px;\n",
        "\n",
        "            position: fixed;\n",
        "            top: 50%;\n",
        "            left: 50%;\n",
        "\n",
        "            -webkit-transform: translate(-50%, -50%);\n",
        "            -ms-transform: translate(-50%, -50%);\n",
        "            -o-transform: translate(-50%, -50%);\n",
        "            transform: translate(-50%, -50%);\n",
        "        }\n",
        "\n",
        "        .page404-image {\n",
        "            margin: 0 auto;\n",
        "            display: block;\n",
        "            max-width: 250px;\n",
        "        }\n",
        "    </style>\n",
        "\n",
        "</head>\n",
        "\n",
        "<body>\n",
        "\n",
        "    <div class=\"page404\">\n",
        "        <img class=\"page404-image\" src=\"/static/img/logos/logo.png\" />\n",
        "\n",
        "        <h2 class=\"heading delta\">\n",
        "        Oops! Looks like the graph does not exist.\n",
        "        </h2>\n",
        "    </div>\n",
        "\n",
        "</body>\n",
        "</html>\n"
       ],
       "text": [
        "<plotly.tools.PlotlyDisplay at 0x1075faa50>"
       ]
      }
     ],
     "prompt_number": 388
    },
    {
     "cell_type": "code",
     "collapsed": false,
     "input": [
      "import string"
     ],
     "language": "python",
     "metadata": {},
     "outputs": [],
     "prompt_number": 286
    },
    {
     "cell_type": "code",
     "collapsed": false,
     "input": [
      "tickers=[''.join(np.random.choice(list(string.ascii_letters),5)) for i in range(5)]"
     ],
     "language": "python",
     "metadata": {},
     "outputs": [],
     "prompt_number": 296
    },
    {
     "cell_type": "code",
     "collapsed": false,
     "input": [
      "tickers"
     ],
     "language": "python",
     "metadata": {},
     "outputs": [
      {
       "metadata": {},
       "output_type": "pyout",
       "prompt_number": 297,
       "text": [
        "['GQUEX', 'NmOoo', 'VuFJq', 'acPLG', 'mvBzu']"
       ]
      }
     ],
     "prompt_number": 297
    },
    {
     "cell_type": "code",
     "collapsed": false,
     "input": [
      "df=pd.DataFrame(np.random.randn(100),index=pd.date_range('1/1/2000',periods=100)).cumsum()"
     ],
     "language": "python",
     "metadata": {},
     "outputs": [],
     "prompt_number": 389
    },
    {
     "cell_type": "code",
     "collapsed": false,
     "input": [
      "layout=pytls.getLayout()"
     ],
     "language": "python",
     "metadata": {},
     "outputs": [],
     "prompt_number": 396
    },
    {
     "cell_type": "code",
     "collapsed": false,
     "input": [
      "layout.update({'barmode':'grouped'})"
     ],
     "language": "python",
     "metadata": {},
     "outputs": [],
     "prompt_number": 397
    },
    {
     "cell_type": "code",
     "collapsed": false,
     "input": [
      "layout"
     ],
     "language": "python",
     "metadata": {},
     "outputs": [
      {
       "metadata": {},
       "output_type": "pyout",
       "prompt_number": 398,
       "text": [
        "{'barmode': 'grouped',\n",
        " 'legend': {'bgcolor': '#151516', 'font': {'color': '#D9D9D9'}},\n",
        " 'paper_bgcolor': '#151516',\n",
        " 'plot_bgcolor': '#151516',\n",
        " 'titlefont': {'color': '#D9D9D9'},\n",
        " 'xaxis': {'gridcolor': '#434343',\n",
        "  'tickfont': {'color': '#C2C2C2'},\n",
        "  'title': ''},\n",
        " 'yaxis': {'gridcolor': '#434343',\n",
        "  'tickfont': {'color': '#C2C2C2'},\n",
        "  'title': '',\n",
        "  'titlefont': {'color': '#D9D9D9'}}}"
       ]
      }
     ],
     "prompt_number": 398
    },
    {
     "cell_type": "code",
     "collapsed": false,
     "input": [
      "df.iplot(theme='solar',colors=[pink],fill=True,yTitle='left axis',title='Pink Chart')"
     ],
     "language": "python",
     "metadata": {},
     "outputs": [
      {
       "application/pdf": "[encoded data removed]",
       "html": [
        "<iframe id=\"igraph\" scrolling=\"no\" style=\"border:none;\"seamless=\"seamless\" src=\"https://plot.ly/~jorgesantos/33\" height=\"525\" width=\"100%\"></iframe>"
       ],
       "jpeg": "[encoded data removed]",
       "metadata": {},
       "output_type": "pyout",
       "png": "[encoded data removed]",
       "prompt_number": 399,
       "svg": [
        "\n",
        "<!DOCTYPE html>\n",
        "<html lang=\"en\">\n",
        "<head>\n",
        "    <meta charset=\"UTF-8\">\n",
        "    <title>Plotly</title>\n",
        "    <link href=\"/static/img/ploticons/16px_444444_PNG/plot.png\" rel=\"shortcut icon\" />\n",
        "\n",
        "    \n",
        "\n",
        "\n",
        "<!-- css -->\n",
        "<link rel=\"stylesheet\" href=\"/static/CACHE/css/b37947501532.css\" type=\"text/css\" /><link rel=\"stylesheet\" href=\"/static/CACHE/css/bf4a488e83a1.css\" type=\"text/css\" media=\"all\" /><link rel=\"stylesheet\" href=\"/static/CACHE/css/5f4c0df098d7.css\" type=\"text/css\" />\n",
        "\n",
        "\n",
        "    <link href=\"//netdna.bootstrapcdn.com/font-awesome/3.2.1/css/font-awesome.css\" rel=\"stylesheet\" />\n",
        "    <link href=\"//fonts.googleapis.com/css?family=Open+Sans:600,400,300\" rel=\"stylesheet\" type=\"text/css\" />\n",
        "    <link href=\"//fonts.googleapis.com/css?family=Inconsolata\" rel=\"stylesheet\" type=\"text/css\" />\n",
        "    <link href=\"//fonts.googleapis.com/css?family=Ubuntu+Mono:400,700\" rel=\"stylesheet\" type=\"text/css\" />\n",
        "\n",
        "\n",
        "<script src=\"//d3nslu0hdya83q.cloudfront.net/dist/1.0/raven.min.js\"></script>\n",
        "<script type=\"text/javascript\" src=\"/static/js/plugins/prettify.min.js\"></script>\n",
        "<script type=\"text/javascript\" src=\"/static/js/plugins/prettify_matlab.min.js\"></script>\n",
        "<script type=\"text/javascript\" src=\"/static/js/plugins/prettify_r.min.js\"></script>\n",
        "\n",
        "\n",
        "<!-- mixpanel -->\n",
        "\n",
        "\n",
        "\n",
        "<!-- google analytics -->\n",
        "    <script type=\"text/javascript\">\n",
        "        var _gaq = _gaq || [];\n",
        "        _gaq.push(['_setAccount', 'UA-39373211-1']);\n",
        "        _gaq.push(['_setSiteSpeedSampleRate', 10]);\n",
        "        _gaq.push(['_trackPageview']);\n",
        "\n",
        "        (function() {\n",
        "            var ga = document.createElement('script'); ga.type = 'text/javascript'; ga.async = true;\n",
        "            ga.src = ('https:' == document.location.protocol ? 'https://' : 'http://') + 'stats.g.doubleclick.net/dc.js';\n",
        "            var s = document.getElementsByTagName('script')[0]; s.parentNode.insertBefore(ga, s);\n",
        "        })();\n",
        "    </script>\n",
        "\n",
        "\n",
        "\n",
        "    <style>\n",
        "        .page404 {\n",
        "            padding: 25px;\n",
        "\n",
        "            position: fixed;\n",
        "            top: 50%;\n",
        "            left: 50%;\n",
        "\n",
        "            -webkit-transform: translate(-50%, -50%);\n",
        "            -ms-transform: translate(-50%, -50%);\n",
        "            -o-transform: translate(-50%, -50%);\n",
        "            transform: translate(-50%, -50%);\n",
        "        }\n",
        "\n",
        "        .page404-image {\n",
        "            margin: 0 auto;\n",
        "            display: block;\n",
        "            max-width: 250px;\n",
        "        }\n",
        "    </style>\n",
        "\n",
        "</head>\n",
        "\n",
        "<body>\n",
        "\n",
        "    <div class=\"page404\">\n",
        "        <img class=\"page404-image\" src=\"/static/img/logos/logo.png\" />\n",
        "\n",
        "        <h2 class=\"heading delta\">\n",
        "        Oops! Looks like the graph does not exist.\n",
        "        </h2>\n",
        "    </div>\n",
        "\n",
        "</body>\n",
        "</html>\n"
       ],
       "text": [
        "<plotly.tools.PlotlyDisplay at 0x103853950>"
       ]
      }
     ],
     "prompt_number": 399
    },
    {
     "cell_type": "code",
     "collapsed": false,
     "input": [
      "data"
     ],
     "language": "python",
     "metadata": {},
     "outputs": [
      {
       "metadata": {},
       "output_type": "pyout",
       "prompt_number": 304,
       "text": [
        "[{'line': {'color': 'rgba(55, 128, 191, 1.0)', 'width': 3},\n",
        "  'name': 'Series1',\n",
        "  'type': 'bar',\n",
        "  'x': array([5, 4, 9, 8, 3, 7, 2, 1, 6]),\n",
        "  'y': array([29, 27, 25, 22, 21, 20, 20, 20, 16])}]"
       ]
      }
     ],
     "prompt_number": 304
    },
    {
     "cell_type": "code",
     "collapsed": false,
     "input": [
      "help(data)"
     ],
     "language": "python",
     "metadata": {},
     "outputs": [
      {
       "output_type": "stream",
       "stream": "stdout",
       "text": [
        "Help on Data in module plotly.graph_objs.graph_objs object:\n",
        "\n",
        "class Data(PlotlyList)\n",
        " |  A list of traces to be shown on a plot/graph.\n",
        " |  \n",
        " |      Any operation that can be done with a standard list may be used with Data.\n",
        " |      Instantiation requires an iterable (just like list does), for example:\n",
        " |  \n",
        " |      Data([Scatter(), Heatmap(), Box()])\n",
        " |  \n",
        " |      Valid entry types: (dict or any subclass of Trace, i.e., Scatter, Box, etc.)\n",
        " |  \n",
        " |      \n",
        " |  Quick method reference:\n",
        " |  \n",
        " |      Data.update(changes)\n",
        " |      Data.strip_style()\n",
        " |      Data.get_data()\n",
        " |      Data.to_graph_objs()\n",
        " |      Data.validate()\n",
        " |      Data.to_string()\n",
        " |      Data.force_clean()\n",
        " |  \n",
        " |  Method resolution order:\n",
        " |      Data\n",
        " |      PlotlyList\n",
        " |      __builtin__.list\n",
        " |      __builtin__.object\n",
        " |  \n",
        " |  Methods defined here:\n",
        " |  \n",
        " |  to_graph_objs(self, caller=True)\n",
        " |      Change any nested collections to subclasses of PlotlyDict/List.\n",
        " |      \n",
        " |      Procedure:\n",
        " |          1. Attempt to convert all entries to a subclass of PlotlyTrace.\n",
        " |          2. Call `to_graph_objects` on each of these entries.\n",
        " |  \n",
        " |  ----------------------------------------------------------------------\n",
        " |  Methods inherited from PlotlyList:\n",
        " |  \n",
        " |  __init__(self, *args)\n",
        " |  \n",
        " |  force_clean(self, caller=True)\n",
        " |      Attempts to convert to graph_objs and calls force_clean() on entries.\n",
        " |      \n",
        " |      Calling force_clean() on a PlotlyList will ensure that the object is\n",
        " |      valid and may be sent to plotly. This process will remove any entries\n",
        " |      that end up with a length == 0. It will also remove itself from\n",
        " |      enclosing trivial structures if it is enclosed by a collection with\n",
        " |      length 1, meaning the data is the ONLY object in the collection.\n",
        " |      \n",
        " |      Careful! This will delete any invalid entries *silently*.\n",
        " |  \n",
        " |  get_data(self)\n",
        " |      Returns the JSON for the plot with non-data elements stripped.\n",
        " |  \n",
        " |  get_ordered(self, caller=True)\n",
        " |  \n",
        " |  strip_style(self)\n",
        " |      Strip style from the current representation.\n",
        " |      \n",
        " |      All PlotlyDicts and PlotlyLists are guaranteed to survive the\n",
        " |      stripping process, though they made be left empty. This is allowable.\n",
        " |      \n",
        " |      Keys that will be stripped in this process are tagged with\n",
        " |      `'type': 'style'` in the INFO dictionary listed in graph_objs_meta.py.\n",
        " |      \n",
        " |      This process first attempts to convert nested collections from dicts\n",
        " |      or lists to subclasses of PlotlyList/PlotlyDict. This process forces\n",
        " |      a validation, which may throw exceptions.\n",
        " |      \n",
        " |      Then, each of these objects call `strip_style` on themselves and so\n",
        " |      on, recursively until the entire structure has been validated and\n",
        " |      stripped.\n",
        " |  \n",
        " |  to_string(self, level=0, indent=4, eol='\\n', pretty=True, max_chars=80)\n",
        " |      Returns a formatted string showing graph_obj constructors.\n",
        " |      \n",
        " |              Example:\n",
        " |      \n",
        " |                  print obj.to_string()\n",
        " |      \n",
        " |              Keyword arguments:\n",
        " |              level (default = 0) -- set number of indentations to start with\n",
        " |              indent (default = 4) -- set indentation amount\n",
        " |              eol (default = '\n",
        " |      ') -- set end of line character(s)\n",
        " |              pretty (default = True) -- curtail long list output with a '...'\n",
        " |              max_chars (default = 80) -- set max characters per line\n",
        " |  \n",
        " |  update(self, changes, make_copies=False)\n",
        " |      Update current list with changed_list, which must be iterable.\n",
        " |      The 'changes' should be a list of dictionaries, however,\n",
        " |      it is permitted to be a single dict object.\n",
        " |      \n",
        " |      Because mutable objects contain references to their values, updating\n",
        " |      multiple items in a list will cause the items to all reference the same\n",
        " |      original set of objects. To change this behavior add\n",
        " |      `make_copies=True` which makes deep copies of the update items and\n",
        " |      therefore break references.\n",
        " |  \n",
        " |  validate(self, caller=True)\n",
        " |      Recursively check the validity of the entries in a PlotlyList.\n",
        " |      \n",
        " |      PlotlyList may only contain suclasses of PlotlyDict, or dictionary-like\n",
        " |      objects that can be re-instantiated as subclasses of PlotlyDict.\n",
        " |      \n",
        " |      The validation process first requires that all nested collections be\n",
        " |      converted to the appropriate subclass of PlotlyDict/PlotlyList. Then,\n",
        " |      each of these objects call `validate` and so on, recursively,\n",
        " |      until the entire list has been validated.\n",
        " |  \n",
        " |  ----------------------------------------------------------------------\n",
        " |  Data descriptors inherited from PlotlyList:\n",
        " |  \n",
        " |  __dict__\n",
        " |      dictionary for instance variables (if defined)\n",
        " |  \n",
        " |  __weakref__\n",
        " |      list of weak references to the object (if defined)\n",
        " |  \n",
        " |  ----------------------------------------------------------------------\n",
        " |  Methods inherited from __builtin__.list:\n",
        " |  \n",
        " |  __add__(...)\n",
        " |      x.__add__(y) <==> x+y\n",
        " |  \n",
        " |  __contains__(...)\n",
        " |      x.__contains__(y) <==> y in x\n",
        " |  \n",
        " |  __delitem__(...)\n",
        " |      x.__delitem__(y) <==> del x[y]\n",
        " |  \n",
        " |  __delslice__(...)\n",
        " |      x.__delslice__(i, j) <==> del x[i:j]\n",
        " |      \n",
        " |      Use of negative indices is not supported.\n",
        " |  \n",
        " |  __eq__(...)\n",
        " |      x.__eq__(y) <==> x==y\n",
        " |  \n",
        " |  __ge__(...)\n",
        " |      x.__ge__(y) <==> x>=y\n",
        " |  \n",
        " |  __getattribute__(...)\n",
        " |      x.__getattribute__('name') <==> x.name\n",
        " |  \n",
        " |  __getitem__(...)\n",
        " |      x.__getitem__(y) <==> x[y]\n",
        " |  \n",
        " |  __getslice__(...)\n",
        " |      x.__getslice__(i, j) <==> x[i:j]\n",
        " |      \n",
        " |      Use of negative indices is not supported.\n",
        " |  \n",
        " |  __gt__(...)\n",
        " |      x.__gt__(y) <==> x>y\n",
        " |  \n",
        " |  __iadd__(...)\n",
        " |      x.__iadd__(y) <==> x+=y\n",
        " |  \n",
        " |  __imul__(...)\n",
        " |      x.__imul__(y) <==> x*=y\n",
        " |  \n",
        " |  __iter__(...)\n",
        " |      x.__iter__() <==> iter(x)\n",
        " |  \n",
        " |  __le__(...)\n",
        " |      x.__le__(y) <==> x<=y\n",
        " |  \n",
        " |  __len__(...)\n",
        " |      x.__len__() <==> len(x)\n",
        " |  \n",
        " |  __lt__(...)\n",
        " |      x.__lt__(y) <==> x<y\n",
        " |  \n",
        " |  __mul__(...)\n",
        " |      x.__mul__(n) <==> x*n\n",
        " |  \n",
        " |  __ne__(...)\n",
        " |      x.__ne__(y) <==> x!=y\n",
        " |  \n",
        " |  __repr__(...)\n",
        " |      x.__repr__() <==> repr(x)\n",
        " |  \n",
        " |  __reversed__(...)\n",
        " |      L.__reversed__() -- return a reverse iterator over the list\n",
        " |  \n",
        " |  __rmul__(...)\n",
        " |      x.__rmul__(n) <==> n*x\n",
        " |  \n",
        " |  __setitem__(...)\n",
        " |      x.__setitem__(i, y) <==> x[i]=y\n",
        " |  \n",
        " |  __setslice__(...)\n",
        " |      x.__setslice__(i, j, y) <==> x[i:j]=y\n",
        " |      \n",
        " |      Use  of negative indices is not supported.\n",
        " |  \n",
        " |  __sizeof__(...)\n",
        " |      L.__sizeof__() -- size of L in memory, in bytes\n",
        " |  \n",
        " |  append(...)\n",
        " |      L.append(object) -- append object to end\n",
        " |  \n",
        " |  count(...)\n",
        " |      L.count(value) -> integer -- return number of occurrences of value\n",
        " |  \n",
        " |  extend(...)\n",
        " |      L.extend(iterable) -- extend list by appending elements from the iterable\n",
        " |  \n",
        " |  index(...)\n",
        " |      L.index(value, [start, [stop]]) -> integer -- return first index of value.\n",
        " |      Raises ValueError if the value is not present.\n",
        " |  \n",
        " |  insert(...)\n",
        " |      L.insert(index, object) -- insert object before index\n",
        " |  \n",
        " |  pop(...)\n",
        " |      L.pop([index]) -> item -- remove and return item at index (default last).\n",
        " |      Raises IndexError if list is empty or index is out of range.\n",
        " |  \n",
        " |  remove(...)\n",
        " |      L.remove(value) -- remove first occurrence of value.\n",
        " |      Raises ValueError if the value is not present.\n",
        " |  \n",
        " |  reverse(...)\n",
        " |      L.reverse() -- reverse *IN PLACE*\n",
        " |  \n",
        " |  sort(...)\n",
        " |      L.sort(cmp=None, key=None, reverse=False) -- stable sort *IN PLACE*;\n",
        " |      cmp(x, y) -> -1, 0, 1\n",
        " |  \n",
        " |  ----------------------------------------------------------------------\n",
        " |  Data and other attributes inherited from __builtin__.list:\n",
        " |  \n",
        " |  __hash__ = None\n",
        " |  \n",
        " |  __new__ = <built-in method __new__ of type object>\n",
        " |      T.__new__(S, ...) -> a new object with type S, a subtype of T\n",
        "\n"
       ]
      }
     ],
     "prompt_number": 412
    },
    {
     "cell_type": "code",
     "collapsed": false,
     "input": [
      "df.to_iplot(colors=[pink])"
     ],
     "language": "python",
     "metadata": {},
     "outputs": [
      {
       "metadata": {},
       "output_type": "pyout",
       "prompt_number": 323,
       "text": [
        "[{'line': {'color': 'rgba(255, 0, 136, 1.0)', 'width': 3},\n",
        "  'name': 0,\n",
        "  'x': ['2000-01-01',\n",
        "   '2000-01-02',\n",
        "   '2000-01-03',\n",
        "   '2000-01-04',\n",
        "   '2000-01-05',\n",
        "   '2000-01-06',\n",
        "   '2000-01-07',\n",
        "   '2000-01-08',\n",
        "   '2000-01-09',\n",
        "   '2000-01-10',\n",
        "   '2000-01-11',\n",
        "   '2000-01-12',\n",
        "   '2000-01-13',\n",
        "   '2000-01-14',\n",
        "   '2000-01-15',\n",
        "   '2000-01-16',\n",
        "   '2000-01-17',\n",
        "   '2000-01-18',\n",
        "   '2000-01-19',\n",
        "   '2000-01-20',\n",
        "   '2000-01-21',\n",
        "   '2000-01-22',\n",
        "   '2000-01-23',\n",
        "   '2000-01-24',\n",
        "   '2000-01-25',\n",
        "   '2000-01-26',\n",
        "   '2000-01-27',\n",
        "   '2000-01-28',\n",
        "   '2000-01-29',\n",
        "   '2000-01-30',\n",
        "   '2000-01-31',\n",
        "   '2000-02-01',\n",
        "   '2000-02-02',\n",
        "   '2000-02-03',\n",
        "   '2000-02-04',\n",
        "   '2000-02-05',\n",
        "   '2000-02-06',\n",
        "   '2000-02-07',\n",
        "   '2000-02-08',\n",
        "   '2000-02-09',\n",
        "   '2000-02-10',\n",
        "   '2000-02-11',\n",
        "   '2000-02-12',\n",
        "   '2000-02-13',\n",
        "   '2000-02-14',\n",
        "   '2000-02-15',\n",
        "   '2000-02-16',\n",
        "   '2000-02-17',\n",
        "   '2000-02-18',\n",
        "   '2000-02-19',\n",
        "   '2000-02-20',\n",
        "   '2000-02-21',\n",
        "   '2000-02-22',\n",
        "   '2000-02-23',\n",
        "   '2000-02-24',\n",
        "   '2000-02-25',\n",
        "   '2000-02-26',\n",
        "   '2000-02-27',\n",
        "   '2000-02-28',\n",
        "   '2000-02-29',\n",
        "   '2000-03-01',\n",
        "   '2000-03-02',\n",
        "   '2000-03-03',\n",
        "   '2000-03-04',\n",
        "   '2000-03-05',\n",
        "   '2000-03-06',\n",
        "   '2000-03-07',\n",
        "   '2000-03-08',\n",
        "   '2000-03-09',\n",
        "   '2000-03-10',\n",
        "   '2000-03-11',\n",
        "   '2000-03-12',\n",
        "   '2000-03-13',\n",
        "   '2000-03-14',\n",
        "   '2000-03-15',\n",
        "   '2000-03-16',\n",
        "   '2000-03-17',\n",
        "   '2000-03-18',\n",
        "   '2000-03-19',\n",
        "   '2000-03-20',\n",
        "   '2000-03-21',\n",
        "   '2000-03-22',\n",
        "   '2000-03-23',\n",
        "   '2000-03-24',\n",
        "   '2000-03-25',\n",
        "   '2000-03-26',\n",
        "   '2000-03-27',\n",
        "   '2000-03-28',\n",
        "   '2000-03-29',\n",
        "   '2000-03-30',\n",
        "   '2000-03-31',\n",
        "   '2000-04-01',\n",
        "   '2000-04-02',\n",
        "   '2000-04-03',\n",
        "   '2000-04-04',\n",
        "   '2000-04-05',\n",
        "   '2000-04-06',\n",
        "   '2000-04-07',\n",
        "   '2000-04-08',\n",
        "   '2000-04-09'],\n",
        "  'y': array([  1.15543582e+00,   1.34967373e+00,   8.20150382e-01,\n",
        "           1.13014312e+00,  -3.11775412e-01,   5.67505360e-01,\n",
        "          -1.21376176e+00,   4.39293537e-01,   1.05172983e+00,\n",
        "          -5.79476063e-01,   6.14418852e-01,  -2.60658744e-01,\n",
        "          -6.80568175e-01,   9.21256592e-01,  -2.84195233e+00,\n",
        "           2.29074818e+00,   3.02288335e-01,  -4.08492106e-01,\n",
        "           1.51502392e-01,  -5.67699181e-01,   6.71654551e-01,\n",
        "          -1.78890972e+00,  -9.78647676e-01,   7.16210123e-01,\n",
        "          -1.58590785e-03,   9.79335255e-01,   4.42212342e-01,\n",
        "           1.44760146e+00,  -4.12292772e-01,   4.95638902e-01,\n",
        "           1.73881548e+00,  -8.03405101e-01,   4.13532415e-01,\n",
        "          -1.37607587e+00,  -9.05761713e-01,  -1.07836054e+00,\n",
        "           5.31617159e-01,  -4.40272726e-01,   8.75158460e-01,\n",
        "           7.06377005e-02,  -3.11344953e-01,  -7.43778825e-01,\n",
        "           2.12225693e+00,  -2.22580492e+00,   1.16718120e-01,\n",
        "          -3.86206588e-01,  -1.84981670e-01,   9.87206043e-01,\n",
        "          -8.09618908e-01,   7.57179210e-01,  -1.09225027e+00,\n",
        "           7.66723425e-01,   2.72658910e-01,   8.55224620e-01,\n",
        "          -1.86450361e-01,  -2.41522560e-01,   5.31110243e-01,\n",
        "          -5.94298757e-01,   2.14487570e+00,  -9.29104484e-02,\n",
        "          -8.38112853e-01,   2.52518717e-01,  -1.02930523e+00,\n",
        "           8.44308969e-01,   1.17168841e-02,  -7.19304344e-01,\n",
        "          -1.49320737e+00,  -1.50192628e+00,   4.32247791e-01,\n",
        "           1.53971323e+00,  -1.09748897e+00,  -1.92863697e-01,\n",
        "          -1.56643057e+00,  -3.49725510e-02,  -1.07361835e+00,\n",
        "          -8.59005911e-01,   2.02920433e+00,  -1.43953455e+00,\n",
        "           1.88165835e+00,   2.89022849e+00,   1.36356321e-03,\n",
        "          -2.40502971e-01,  -2.88852366e+00,  -4.71845435e-01,\n",
        "           9.90877020e-01,   1.62544819e-01,   1.13077844e+00,\n",
        "          -1.48478628e+00,   4.08328691e-01,  -8.02841372e-01,\n",
        "           5.42191048e-01,  -5.92441788e-01,  -5.54888757e-01,\n",
        "           8.07630493e-01,  -1.30534059e+00,  -1.43983662e-02,\n",
        "           2.06484410e-01,   8.31645992e-01,  -1.65721188e-01,\n",
        "          -1.92847265e-01])}]"
       ]
      }
     ],
     "prompt_number": 323
    },
    {
     "cell_type": "code",
     "collapsed": false,
     "input": [
      "fig=py.get_figure('jorgesantos',10)\n",
      "data=fig['data']\n",
      "layout=fig['layout']"
     ],
     "language": "python",
     "metadata": {},
     "outputs": [],
     "prompt_number": 332
    },
    {
     "cell_type": "code",
     "collapsed": false,
     "input": [
      "help(Line)"
     ],
     "language": "python",
     "metadata": {},
     "outputs": [
      {
       "output_type": "stream",
       "stream": "stdout",
       "text": [
        "Help on class Line in module plotly.graph_objs.graph_objs:\n",
        "\n",
        "class Line(PlotlyDict)\n",
        " |  A dictionary-like object representing the style of a line in plotly.\n",
        " |  \n",
        " |      \n",
        " |  Quick method reference:\n",
        " |  \n",
        " |      Line.update(changes)\n",
        " |      Line.strip_style()\n",
        " |      Line.get_data()\n",
        " |      Line.to_graph_objs()\n",
        " |      Line.validate()\n",
        " |      Line.to_string()\n",
        " |      Line.force_clean()\n",
        " |  \n",
        " |  Valid keys:\n",
        " |  \n",
        " |      color [required=False] (value=string describing color) (streamable):\n",
        " |          Sets the color of the line object. If linked within 'marker', sets\n",
        " |          the color of the marker's bordering line. If linked within,\n",
        " |          'contours', sets the color of the contour lines.\n",
        " |  \n",
        " |          Examples:\n",
        " |              [u\"'green'\", u\"'rgb(0, 255, 0)'\", u\"'rgba(0, 255, 0, 0.3)'\",\n",
        " |              u\"'hsl(120,100%,50%)'\", u\"'hsla(120,100%,50%,0.3)'\"]\n",
        " |  \n",
        " |      width [required=False] (value=number: x >= 0):\n",
        " |          Sets the width (in pixels) of the line object.\n",
        " |  \n",
        " |      dash [required=False] (value='dash' | 'dashdot' | 'dot' | 'solid'):\n",
        " |          Sets the drawing style of this line object.\n",
        " |  \n",
        " |      opacity [required=False] (value=number: x in [0, 1]):\n",
        " |          Sets the opacity, or transparency, of the entire object, also known\n",
        " |          as the alpha channel of colors. If the object's color is given in\n",
        " |          terms of 'rgba' color model, 'opacity' is redundant.\n",
        " |  \n",
        " |      shape [required=False] (value='linear' | 'spline' | 'hv' | 'vh' | 'hvh'\n",
        " |      | 'vhv'):\n",
        " |          Choose the line shape between each coordinate pair in this trace.\n",
        " |          Applies only to scatter traces. The default value is 'linear'. If\n",
        " |          'spline', then the lines are drawn using spline interpolation\n",
        " |          between the coordinate pairs. The remaining available values\n",
        " |          correspond to step-wise line shapes, see example in:\n",
        " |          https://plot.ly/~alex/315 .\n",
        " |  \n",
        " |      smoothing [required=False] (value=number: x >= 0):\n",
        " |          Sets the amount of smoothing applied to this line object. Applies\n",
        " |          only to contour traces and scatter traces if 'shape' is set to\n",
        " |          'spline'. The default value is 1. If 'smoothing' is set to 0, then\n",
        " |          no smoothing is applied. Set 'smoothing' to a value less (greater)\n",
        " |          than 1 for a less (more) pronounced line smoothing.\n",
        " |  \n",
        " |      outliercolor [required=False] (value=string describing color):\n",
        " |          For box plots only. Has an effect only if 'boxpoints' is set to\n",
        " |          'suspectedoutliers'. Sets the color of the bordering line of the\n",
        " |          outlier points.\n",
        " |  \n",
        " |          Examples:\n",
        " |              [u\"'green'\", u\"'rgb(0, 255, 0)'\", u\"'rgba(0, 255, 0, 0.3)'\",\n",
        " |              u\"'hsl(120,100%,50%)'\", u\"'hsla(120,100%,50%,0.3)'\"]\n",
        " |  \n",
        " |      outlierwidth [required=False] (value=string describing color):\n",
        " |          For box plots only. Has an effect only if 'boxpoints' is set to\n",
        " |          'suspectedoutliers'. Sets the width in pixels of bordering line of\n",
        " |          the outlier points.\n",
        " |  \n",
        " |          Examples:\n",
        " |              [u\"'green'\", u\"'rgb(0, 255, 0)'\", u\"'rgba(0, 255, 0, 0.3)'\",\n",
        " |              u\"'hsl(120,100%,50%)'\", u\"'hsla(120,100%,50%,0.3)'\"]\n",
        " |  \n",
        " |  Method resolution order:\n",
        " |      Line\n",
        " |      PlotlyDict\n",
        " |      __builtin__.dict\n",
        " |      __builtin__.object\n",
        " |  \n",
        " |  Methods inherited from PlotlyDict:\n",
        " |  \n",
        " |  __init__(self, *args, **kwargs)\n",
        " |  \n",
        " |  force_clean(self, caller=True)\n",
        " |      Attempts to convert to graph_objs and call force_clean() on values.\n",
        " |      \n",
        " |      Calling force_clean() on a PlotlyDict will ensure that the object is\n",
        " |      valid and may be sent to plotly. This process will also remove any\n",
        " |      entries that end up with a length == 0.\n",
        " |      \n",
        " |      Careful! This will delete any invalid entries *silently*.\n",
        " |  \n",
        " |  get_data(self)\n",
        " |      Returns the JSON for the plot with non-data elements stripped.\n",
        " |  \n",
        " |  get_ordered(self, caller=True)\n",
        " |  \n",
        " |  strip_style(self)\n",
        " |      Strip style from the current representation.\n",
        " |      \n",
        " |      All PlotlyDicts and PlotlyLists are guaranteed to survive the\n",
        " |      stripping process, though they made be left empty. This is allowable.\n",
        " |      \n",
        " |      Keys that will be stripped in this process are tagged with\n",
        " |      `'type': 'style'` in the INFO dictionary listed in graph_objs_meta.py.\n",
        " |      \n",
        " |      This process first attempts to convert nested collections from dicts\n",
        " |      or lists to subclasses of PlotlyList/PlotlyDict. This process forces\n",
        " |      a validation, which may throw exceptions.\n",
        " |      \n",
        " |      Then, each of these objects call `strip_style` on themselves and so\n",
        " |      on, recursively until the entire structure has been validated and\n",
        " |      stripped.\n",
        " |  \n",
        " |  to_graph_objs(self, caller=True)\n",
        " |      Walk obj, convert dicts and lists to plotly graph objs.\n",
        " |      \n",
        " |      For each key in the object, if it corresponds to a special key that\n",
        " |      should be associated with a graph object, the ordinary dict or list\n",
        " |      will be reinitialized as a special PlotlyDict or PlotlyList of the\n",
        " |      appropriate `kind`.\n",
        " |  \n",
        " |  to_string(self, level=0, indent=4, eol='\\n', pretty=True, max_chars=80)\n",
        " |      Returns a formatted string showing graph_obj constructors.\n",
        " |      \n",
        " |              Example:\n",
        " |      \n",
        " |                  print obj.to_string()\n",
        " |      \n",
        " |              Keyword arguments:\n",
        " |              level (default = 0) -- set number of indentations to start with\n",
        " |              indent (default = 4) -- set indentation amount\n",
        " |              eol (default = '\n",
        " |      ') -- set end of line character(s)\n",
        " |              pretty (default = True) -- curtail long list output with a '...'\n",
        " |              max_chars (default = 80) -- set max characters per line\n",
        " |  \n",
        " |  update(self, dict1=None, **dict2)\n",
        " |      Update current dict with dict1 and then dict2.\n",
        " |      \n",
        " |      This recursively updates the structure of the original dictionary-like\n",
        " |      object with the new entries in the second and third objects. This\n",
        " |      allows users to update with large, nested structures.\n",
        " |      \n",
        " |      Note, because the dict2 packs up all the keyword arguments, you can\n",
        " |      specify the changes as a list of keyword agruments.\n",
        " |      \n",
        " |      Examples:\n",
        " |      # update with dict\n",
        " |      obj = Layout(title='my title', xaxis=XAxis(range=[0,1], domain=[0,1]))\n",
        " |      update_dict = dict(title='new title', xaxis=dict(domain=[0,.8]))\n",
        " |      obj.update(update_dict)\n",
        " |      obj\n",
        " |      {'title': 'new title', 'xaxis': {'range': [0,1], 'domain': [0,.8]}}\n",
        " |      \n",
        " |      # update with list of keyword arguments\n",
        " |      obj = Layout(title='my title', xaxis=XAxis(range=[0,1], domain=[0,1]))\n",
        " |      obj.update(title='new title', xaxis=dict(domain=[0,.8]))\n",
        " |      obj\n",
        " |      {'title': 'new title', 'xaxis': {'range': [0,1], 'domain': [0,.8]}}\n",
        " |      \n",
        " |      This 'fully' supports duck-typing in that the call signature is\n",
        " |      identical, however this differs slightly from the normal update\n",
        " |      method provided by Python's dictionaries.\n",
        " |  \n",
        " |  validate(self, caller=True)\n",
        " |      Recursively check the validity of the keys in a PlotlyDict.\n",
        " |      \n",
        " |      The valid keys constitute the entries in each object\n",
        " |      dictionary in INFO stored in graph_objs_meta.py.\n",
        " |      \n",
        " |      The validation process first requires that all nested collections be\n",
        " |      converted to the appropriate subclass of PlotlyDict/PlotlyList. Then,\n",
        " |      each of these objects call `validate` and so on, recursively,\n",
        " |      until the entire object has been validated.\n",
        " |  \n",
        " |  ----------------------------------------------------------------------\n",
        " |  Data descriptors inherited from PlotlyDict:\n",
        " |  \n",
        " |  __dict__\n",
        " |      dictionary for instance variables (if defined)\n",
        " |  \n",
        " |  __weakref__\n",
        " |      list of weak references to the object (if defined)\n",
        " |  \n",
        " |  ----------------------------------------------------------------------\n",
        " |  Methods inherited from __builtin__.dict:\n",
        " |  \n",
        " |  __cmp__(...)\n",
        " |      x.__cmp__(y) <==> cmp(x,y)\n",
        " |  \n",
        " |  __contains__(...)\n",
        " |      D.__contains__(k) -> True if D has a key k, else False\n",
        " |  \n",
        " |  __delitem__(...)\n",
        " |      x.__delitem__(y) <==> del x[y]\n",
        " |  \n",
        " |  __eq__(...)\n",
        " |      x.__eq__(y) <==> x==y\n",
        " |  \n",
        " |  __ge__(...)\n",
        " |      x.__ge__(y) <==> x>=y\n",
        " |  \n",
        " |  __getattribute__(...)\n",
        " |      x.__getattribute__('name') <==> x.name\n",
        " |  \n",
        " |  __getitem__(...)\n",
        " |      x.__getitem__(y) <==> x[y]\n",
        " |  \n",
        " |  __gt__(...)\n",
        " |      x.__gt__(y) <==> x>y\n",
        " |  \n",
        " |  __iter__(...)\n",
        " |      x.__iter__() <==> iter(x)\n",
        " |  \n",
        " |  __le__(...)\n",
        " |      x.__le__(y) <==> x<=y\n",
        " |  \n",
        " |  __len__(...)\n",
        " |      x.__len__() <==> len(x)\n",
        " |  \n",
        " |  __lt__(...)\n",
        " |      x.__lt__(y) <==> x<y\n",
        " |  \n",
        " |  __ne__(...)\n",
        " |      x.__ne__(y) <==> x!=y\n",
        " |  \n",
        " |  __repr__(...)\n",
        " |      x.__repr__() <==> repr(x)\n",
        " |  \n",
        " |  __setitem__(...)\n",
        " |      x.__setitem__(i, y) <==> x[i]=y\n",
        " |  \n",
        " |  __sizeof__(...)\n",
        " |      D.__sizeof__() -> size of D in memory, in bytes\n",
        " |  \n",
        " |  clear(...)\n",
        " |      D.clear() -> None.  Remove all items from D.\n",
        " |  \n",
        " |  copy(...)\n",
        " |      D.copy() -> a shallow copy of D\n",
        " |  \n",
        " |  fromkeys(...)\n",
        " |      dict.fromkeys(S[,v]) -> New dict with keys from S and values equal to v.\n",
        " |      v defaults to None.\n",
        " |  \n",
        " |  get(...)\n",
        " |      D.get(k[,d]) -> D[k] if k in D, else d.  d defaults to None.\n",
        " |  \n",
        " |  has_key(...)\n",
        " |      D.has_key(k) -> True if D has a key k, else False\n",
        " |  \n",
        " |  items(...)\n",
        " |      D.items() -> list of D's (key, value) pairs, as 2-tuples\n",
        " |  \n",
        " |  iteritems(...)\n",
        " |      D.iteritems() -> an iterator over the (key, value) items of D\n",
        " |  \n",
        " |  iterkeys(...)\n",
        " |      D.iterkeys() -> an iterator over the keys of D\n",
        " |  \n",
        " |  itervalues(...)\n",
        " |      D.itervalues() -> an iterator over the values of D\n",
        " |  \n",
        " |  keys(...)\n",
        " |      D.keys() -> list of D's keys\n",
        " |  \n",
        " |  pop(...)\n",
        " |      D.pop(k[,d]) -> v, remove specified key and return the corresponding value.\n",
        " |      If key is not found, d is returned if given, otherwise KeyError is raised\n",
        " |  \n",
        " |  popitem(...)\n",
        " |      D.popitem() -> (k, v), remove and return some (key, value) pair as a\n",
        " |      2-tuple; but raise KeyError if D is empty.\n",
        " |  \n",
        " |  setdefault(...)\n",
        " |      D.setdefault(k[,d]) -> D.get(k,d), also set D[k]=d if k not in D\n",
        " |  \n",
        " |  values(...)\n",
        " |      D.values() -> list of D's values\n",
        " |  \n",
        " |  viewitems(...)\n",
        " |      D.viewitems() -> a set-like object providing a view on D's items\n",
        " |  \n",
        " |  viewkeys(...)\n",
        " |      D.viewkeys() -> a set-like object providing a view on D's keys\n",
        " |  \n",
        " |  viewvalues(...)\n",
        " |      D.viewvalues() -> an object providing a view on D's values\n",
        " |  \n",
        " |  ----------------------------------------------------------------------\n",
        " |  Data and other attributes inherited from __builtin__.dict:\n",
        " |  \n",
        " |  __hash__ = None\n",
        " |  \n",
        " |  __new__ = <built-in method __new__ of type object>\n",
        " |      T.__new__(S, ...) -> a new object with type S, a subtype of T\n",
        "\n"
       ]
      }
     ],
     "prompt_number": 391
    },
    {
     "cell_type": "code",
     "collapsed": false,
     "input": [
      "d={}\n",
      "for key in tickers:\n",
      "    d[key]=np.random.randint(1,100,20)"
     ],
     "language": "python",
     "metadata": {},
     "outputs": [],
     "prompt_number": 402
    },
    {
     "cell_type": "code",
     "collapsed": false,
     "input": [
      "df=pd.DataFrame(d,index=pd.date_range('1/1/2000',periods=20))"
     ],
     "language": "python",
     "metadata": {},
     "outputs": [],
     "prompt_number": 535
    },
    {
     "cell_type": "code",
     "collapsed": false,
     "input": [
      "ann=dict([(v,k) for k,v in ann.items()])"
     ],
     "language": "python",
     "metadata": {},
     "outputs": [],
     "prompt_number": 502
    },
    {
     "cell_type": "code",
     "collapsed": false,
     "input": [
      "annotations.update({'arrowcolor':grey04,'font':{'color':pearl}})"
     ],
     "language": "python",
     "metadata": {},
     "outputs": [],
     "prompt_number": 496
    },
    {
     "cell_type": "code",
     "collapsed": false,
     "input": [
      "layout=pytls.getLayout(barmode='stack',annotations=annotations)"
     ],
     "language": "python",
     "metadata": {},
     "outputs": [],
     "prompt_number": 497
    },
    {
     "cell_type": "code",
     "collapsed": false,
     "input": [
      "df.iplot(theme='white',kind='bar',barmode='stack',annotations=ann)"
     ],
     "language": "python",
     "metadata": {},
     "outputs": [
      {
       "application/pdf": "[encoded data removed]",
       "html": [
        "<iframe id=\"igraph\" scrolling=\"no\" style=\"border:none;\"seamless=\"seamless\" src=\"https://plot.ly/~jorgesantos/33\" height=\"525\" width=\"100%\"></iframe>"
       ],
       "jpeg": "[encoded data removed]",
       "metadata": {},
       "output_type": "pyout",
       "png": "[encoded data removed]",
       "prompt_number": 508,
       "svg": [
        "\n",
        "<!DOCTYPE html>\n",
        "<html lang=\"en\">\n",
        "<head>\n",
        "    <meta charset=\"UTF-8\">\n",
        "    <title>Plotly</title>\n",
        "    <link href=\"/static/img/ploticons/16px_444444_PNG/plot.png\" rel=\"shortcut icon\" />\n",
        "\n",
        "    \n",
        "\n",
        "\n",
        "<!-- css -->\n",
        "<link rel=\"stylesheet\" href=\"/static/CACHE/css/b37947501532.css\" type=\"text/css\" /><link rel=\"stylesheet\" href=\"/static/CACHE/css/bf4a488e83a1.css\" type=\"text/css\" media=\"all\" /><link rel=\"stylesheet\" href=\"/static/CACHE/css/5f4c0df098d7.css\" type=\"text/css\" />\n",
        "\n",
        "\n",
        "    <link href=\"//netdna.bootstrapcdn.com/font-awesome/3.2.1/css/font-awesome.css\" rel=\"stylesheet\" />\n",
        "    <link href=\"//fonts.googleapis.com/css?family=Open+Sans:600,400,300\" rel=\"stylesheet\" type=\"text/css\" />\n",
        "    <link href=\"//fonts.googleapis.com/css?family=Inconsolata\" rel=\"stylesheet\" type=\"text/css\" />\n",
        "    <link href=\"//fonts.googleapis.com/css?family=Ubuntu+Mono:400,700\" rel=\"stylesheet\" type=\"text/css\" />\n",
        "\n",
        "\n",
        "<script src=\"//d3nslu0hdya83q.cloudfront.net/dist/1.0/raven.min.js\"></script>\n",
        "<script type=\"text/javascript\" src=\"/static/js/plugins/prettify.min.js\"></script>\n",
        "<script type=\"text/javascript\" src=\"/static/js/plugins/prettify_matlab.min.js\"></script>\n",
        "<script type=\"text/javascript\" src=\"/static/js/plugins/prettify_r.min.js\"></script>\n",
        "\n",
        "\n",
        "<!-- mixpanel -->\n",
        "\n",
        "\n",
        "\n",
        "<!-- google analytics -->\n",
        "    <script type=\"text/javascript\">\n",
        "        var _gaq = _gaq || [];\n",
        "        _gaq.push(['_setAccount', 'UA-39373211-1']);\n",
        "        _gaq.push(['_setSiteSpeedSampleRate', 10]);\n",
        "        _gaq.push(['_trackPageview']);\n",
        "\n",
        "        (function() {\n",
        "            var ga = document.createElement('script'); ga.type = 'text/javascript'; ga.async = true;\n",
        "            ga.src = ('https:' == document.location.protocol ? 'https://' : 'http://') + 'stats.g.doubleclick.net/dc.js';\n",
        "            var s = document.getElementsByTagName('script')[0]; s.parentNode.insertBefore(ga, s);\n",
        "        })();\n",
        "    </script>\n",
        "\n",
        "\n",
        "\n",
        "    <style>\n",
        "        .page404 {\n",
        "            padding: 25px;\n",
        "\n",
        "            position: fixed;\n",
        "            top: 50%;\n",
        "            left: 50%;\n",
        "\n",
        "            -webkit-transform: translate(-50%, -50%);\n",
        "            -ms-transform: translate(-50%, -50%);\n",
        "            -o-transform: translate(-50%, -50%);\n",
        "            transform: translate(-50%, -50%);\n",
        "        }\n",
        "\n",
        "        .page404-image {\n",
        "            margin: 0 auto;\n",
        "            display: block;\n",
        "            max-width: 250px;\n",
        "        }\n",
        "    </style>\n",
        "\n",
        "</head>\n",
        "\n",
        "<body>\n",
        "\n",
        "    <div class=\"page404\">\n",
        "        <img class=\"page404-image\" src=\"/static/img/logos/logo.png\" />\n",
        "\n",
        "        <h2 class=\"heading delta\">\n",
        "        Oops! Looks like the graph does not exist.\n",
        "        </h2>\n",
        "    </div>\n",
        "\n",
        "</body>\n",
        "</html>\n"
       ],
       "text": [
        "<plotly.tools.PlotlyDisplay at 0x1075a7c50>"
       ]
      }
     ],
     "prompt_number": 508
    },
    {
     "cell_type": "code",
     "collapsed": false,
     "input": [
      "def getAnnotations(rd,df):\n",
      "    l=[]\n",
      "    for k,v in rd.items():\n",
      "        maxv=df.ix[v].sum() if v in df.index else 0\n",
      "        l.append(\n",
      "                 Annotation(\n",
      "                            x=v,\n",
      "                            y=maxv,\n",
      "                            xref='x',\n",
      "                            yref='y',\n",
      "                            text=k,\n",
      "                            showarrow=True,\n",
      "                            arrowhead=7,\n",
      "                            ax=0,\n",
      "                            ay=-120,#-300-maxv,\n",
      "                            textangle=-90\n",
      "                            )\n",
      "                 )\n",
      "    return Annotations(l)"
     ],
     "language": "python",
     "metadata": {},
     "outputs": [],
     "prompt_number": 471
    },
    {
     "cell_type": "code",
     "collapsed": false,
     "input": [
      "ann={\n",
      "    'first event':'2000-01-05',\n",
      "    'second event':'2000-01-10',\n",
      "    'third event':'2000-01-18',\n",
      "}"
     ],
     "language": "python",
     "metadata": {},
     "outputs": [],
     "prompt_number": 472
    },
    {
     "cell_type": "code",
     "collapsed": false,
     "input": [
      "annotations=getAnnotations(ann,df)"
     ],
     "language": "python",
     "metadata": {},
     "outputs": [],
     "prompt_number": 474
    },
    {
     "cell_type": "code",
     "collapsed": false,
     "input": [
      "annotations.update({'arrowcolor':pink})"
     ],
     "language": "python",
     "metadata": {},
     "outputs": [],
     "prompt_number": 475
    },
    {
     "cell_type": "code",
     "collapsed": false,
     "input": [
      "annotations"
     ],
     "language": "python",
     "metadata": {},
     "outputs": [
      {
       "metadata": {},
       "output_type": "pyout",
       "prompt_number": 476,
       "text": [
        "[{'arrowcolor': '#f08',\n",
        "  'arrowhead': 7,\n",
        "  'ax': 0,\n",
        "  'ay': -120,\n",
        "  'showarrow': True,\n",
        "  'text': 'second event',\n",
        "  'textangle': -90,\n",
        "  'x': '2000-01-10',\n",
        "  'xref': 'x',\n",
        "  'y': 188,\n",
        "  'yref': 'y'},\n",
        " {'arrowcolor': '#f08',\n",
        "  'arrowhead': 7,\n",
        "  'ax': 0,\n",
        "  'ay': -120,\n",
        "  'showarrow': True,\n",
        "  'text': 'first event',\n",
        "  'textangle': -90,\n",
        "  'x': '2000-01-05',\n",
        "  'xref': 'x',\n",
        "  'y': 317,\n",
        "  'yref': 'y'},\n",
        " {'arrowcolor': '#f08',\n",
        "  'arrowhead': 7,\n",
        "  'ax': 0,\n",
        "  'ay': -120,\n",
        "  'showarrow': True,\n",
        "  'text': 'third event',\n",
        "  'textangle': -90,\n",
        "  'x': '2000-01-18',\n",
        "  'xref': 'x',\n",
        "  'y': 181,\n",
        "  'yref': 'y'}]"
       ]
      }
     ],
     "prompt_number": 476
    },
    {
     "cell_type": "code",
     "collapsed": false,
     "input": [
      "df=df[['NmOoo','acPLG']]"
     ],
     "language": "python",
     "metadata": {},
     "outputs": [],
     "prompt_number": 511
    },
    {
     "cell_type": "code",
     "collapsed": false,
     "input": [
      "data=df.to_iplot()"
     ],
     "language": "python",
     "metadata": {},
     "outputs": [],
     "prompt_number": 524
    },
    {
     "cell_type": "code",
     "collapsed": false,
     "input": [
      "data[1]['fill']='tonexty'\n",
      "data[1]['opacity']=.6"
     ],
     "language": "python",
     "metadata": {},
     "outputs": [],
     "prompt_number": 521
    },
    {
     "cell_type": "code",
     "collapsed": false,
     "input": [
      "data"
     ],
     "language": "python",
     "metadata": {},
     "outputs": [
      {
       "metadata": {},
       "output_type": "pyout",
       "prompt_number": 525,
       "text": [
        "[{'line': {'color': 'rgba(255, 153, 51, 1.0)', 'width': 3},\n",
        "  'name': 'NmOoo',\n",
        "  'type': 'scatter',\n",
        "  'x': ['2000-01-01',\n",
        "   '2000-01-02',\n",
        "   '2000-01-03',\n",
        "   '2000-01-04',\n",
        "   '2000-01-05',\n",
        "   '2000-01-06',\n",
        "   '2000-01-07',\n",
        "   '2000-01-08',\n",
        "   '2000-01-09',\n",
        "   '2000-01-10',\n",
        "   '2000-01-11',\n",
        "   '2000-01-12',\n",
        "   '2000-01-13',\n",
        "   '2000-01-14',\n",
        "   '2000-01-15',\n",
        "   '2000-01-16',\n",
        "   '2000-01-17',\n",
        "   '2000-01-18',\n",
        "   '2000-01-19',\n",
        "   '2000-01-20'],\n",
        "  'y': array([80, 68, 77,  2, 44, 71, 25, 31, 50, 54, 93, 73, 56, 57, 58, 69, 32,\n",
        "         32, 84, 20])},\n",
        " {'line': {'color': 'rgba(55, 128, 191, 1.0)', 'width': 3},\n",
        "  'name': 'acPLG',\n",
        "  'type': 'scatter',\n",
        "  'x': ['2000-01-01',\n",
        "   '2000-01-02',\n",
        "   '2000-01-03',\n",
        "   '2000-01-04',\n",
        "   '2000-01-05',\n",
        "   '2000-01-06',\n",
        "   '2000-01-07',\n",
        "   '2000-01-08',\n",
        "   '2000-01-09',\n",
        "   '2000-01-10',\n",
        "   '2000-01-11',\n",
        "   '2000-01-12',\n",
        "   '2000-01-13',\n",
        "   '2000-01-14',\n",
        "   '2000-01-15',\n",
        "   '2000-01-16',\n",
        "   '2000-01-17',\n",
        "   '2000-01-18',\n",
        "   '2000-01-19',\n",
        "   '2000-01-20'],\n",
        "  'y': array([54, 13, 34, 53, 95, 78, 98, 32, 22, 36, 33, 70, 98,  6, 90, 87, 78,\n",
        "         54, 46, 48])}]"
       ]
      }
     ],
     "prompt_number": 525
    },
    {
     "cell_type": "code",
     "collapsed": false,
     "input": [
      "df.iplot(data=data)"
     ],
     "language": "python",
     "metadata": {},
     "outputs": [
      {
       "application/pdf": "[encoded data removed]",
       "html": [
        "<iframe id=\"igraph\" scrolling=\"no\" style=\"border:none;\"seamless=\"seamless\" src=\"https://plot.ly/~jorgesantos/33\" height=\"525\" width=\"100%\"></iframe>"
       ],
       "jpeg": "[encoded data removed]",
       "metadata": {},
       "output_type": "pyout",
       "png": "[encoded data removed]",
       "prompt_number": 526,
       "svg": [
        "\n",
        "<!DOCTYPE html>\n",
        "<html lang=\"en\">\n",
        "<head>\n",
        "    <meta charset=\"UTF-8\">\n",
        "    <title>Plotly</title>\n",
        "    <link href=\"/static/img/ploticons/16px_444444_PNG/plot.png\" rel=\"shortcut icon\" />\n",
        "\n",
        "    \n",
        "\n",
        "\n",
        "<!-- css -->\n",
        "<link rel=\"stylesheet\" href=\"/static/CACHE/css/b37947501532.css\" type=\"text/css\" /><link rel=\"stylesheet\" href=\"/static/CACHE/css/bf4a488e83a1.css\" type=\"text/css\" media=\"all\" /><link rel=\"stylesheet\" href=\"/static/CACHE/css/5f4c0df098d7.css\" type=\"text/css\" />\n",
        "\n",
        "\n",
        "    <link href=\"//netdna.bootstrapcdn.com/font-awesome/3.2.1/css/font-awesome.css\" rel=\"stylesheet\" />\n",
        "    <link href=\"//fonts.googleapis.com/css?family=Open+Sans:600,400,300\" rel=\"stylesheet\" type=\"text/css\" />\n",
        "    <link href=\"//fonts.googleapis.com/css?family=Inconsolata\" rel=\"stylesheet\" type=\"text/css\" />\n",
        "    <link href=\"//fonts.googleapis.com/css?family=Ubuntu+Mono:400,700\" rel=\"stylesheet\" type=\"text/css\" />\n",
        "\n",
        "\n",
        "<script src=\"//d3nslu0hdya83q.cloudfront.net/dist/1.0/raven.min.js\"></script>\n",
        "<script type=\"text/javascript\" src=\"/static/js/plugins/prettify.min.js\"></script>\n",
        "<script type=\"text/javascript\" src=\"/static/js/plugins/prettify_matlab.min.js\"></script>\n",
        "<script type=\"text/javascript\" src=\"/static/js/plugins/prettify_r.min.js\"></script>\n",
        "\n",
        "\n",
        "<!-- mixpanel -->\n",
        "\n",
        "\n",
        "\n",
        "<!-- google analytics -->\n",
        "    <script type=\"text/javascript\">\n",
        "        var _gaq = _gaq || [];\n",
        "        _gaq.push(['_setAccount', 'UA-39373211-1']);\n",
        "        _gaq.push(['_setSiteSpeedSampleRate', 10]);\n",
        "        _gaq.push(['_trackPageview']);\n",
        "\n",
        "        (function() {\n",
        "            var ga = document.createElement('script'); ga.type = 'text/javascript'; ga.async = true;\n",
        "            ga.src = ('https:' == document.location.protocol ? 'https://' : 'http://') + 'stats.g.doubleclick.net/dc.js';\n",
        "            var s = document.getElementsByTagName('script')[0]; s.parentNode.insertBefore(ga, s);\n",
        "        })();\n",
        "    </script>\n",
        "\n",
        "\n",
        "\n",
        "    <style>\n",
        "        .page404 {\n",
        "            padding: 25px;\n",
        "\n",
        "            position: fixed;\n",
        "            top: 50%;\n",
        "            left: 50%;\n",
        "\n",
        "            -webkit-transform: translate(-50%, -50%);\n",
        "            -ms-transform: translate(-50%, -50%);\n",
        "            -o-transform: translate(-50%, -50%);\n",
        "            transform: translate(-50%, -50%);\n",
        "        }\n",
        "\n",
        "        .page404-image {\n",
        "            margin: 0 auto;\n",
        "            display: block;\n",
        "            max-width: 250px;\n",
        "        }\n",
        "    </style>\n",
        "\n",
        "</head>\n",
        "\n",
        "<body>\n",
        "\n",
        "    <div class=\"page404\">\n",
        "        <img class=\"page404-image\" src=\"/static/img/logos/logo.png\" />\n",
        "\n",
        "        <h2 class=\"heading delta\">\n",
        "        Oops! Looks like the graph does not exist.\n",
        "        </h2>\n",
        "    </div>\n",
        "\n",
        "</body>\n",
        "</html>\n"
       ],
       "text": [
        "<plotly.tools.PlotlyDisplay at 0x1038ffc90>"
       ]
      }
     ],
     "prompt_number": 526
    },
    {
     "cell_type": "code",
     "collapsed": false,
     "input": [
      "df['diff_pos']=df.apply(lambda x:x[1]-x[0] if x[1]-x[0]>=0 else None,axis=1)\n",
      "df['diff_neg']=df.apply(lambda x:x[1]-x[0] if x[1]-x[0]<=0 else None,axis=1)"
     ],
     "language": "python",
     "metadata": {},
     "outputs": [],
     "prompt_number": 546
    },
    {
     "cell_type": "code",
     "collapsed": false,
     "input": [
      "df.apply(lambda x:x[1]-x[0],axis=1).iplot(colors=[blue],fill=True)"
     ],
     "language": "python",
     "metadata": {},
     "outputs": [
      {
       "application/pdf": "[encoded data removed]",
       "html": [
        "<iframe id=\"igraph\" scrolling=\"no\" style=\"border:none;\"seamless=\"seamless\" src=\"https://plot.ly/~jorgesantos/33\" height=\"525\" width=\"100%\"></iframe>"
       ],
       "jpeg": "[encoded data removed]",
       "metadata": {},
       "output_type": "pyout",
       "png": "[encoded data removed]",
       "prompt_number": 553,
       "svg": [
        "\n",
        "<!DOCTYPE html>\n",
        "<html lang=\"en\">\n",
        "<head>\n",
        "    <meta charset=\"UTF-8\">\n",
        "    <title>Plotly</title>\n",
        "    <link href=\"/static/img/ploticons/16px_444444_PNG/plot.png\" rel=\"shortcut icon\" />\n",
        "\n",
        "    \n",
        "\n",
        "\n",
        "<!-- css -->\n",
        "<link rel=\"stylesheet\" href=\"/static/CACHE/css/b37947501532.css\" type=\"text/css\" /><link rel=\"stylesheet\" href=\"/static/CACHE/css/bf4a488e83a1.css\" type=\"text/css\" media=\"all\" /><link rel=\"stylesheet\" href=\"/static/CACHE/css/5f4c0df098d7.css\" type=\"text/css\" />\n",
        "\n",
        "\n",
        "    <link href=\"//netdna.bootstrapcdn.com/font-awesome/3.2.1/css/font-awesome.css\" rel=\"stylesheet\" />\n",
        "    <link href=\"//fonts.googleapis.com/css?family=Open+Sans:600,400,300\" rel=\"stylesheet\" type=\"text/css\" />\n",
        "    <link href=\"//fonts.googleapis.com/css?family=Inconsolata\" rel=\"stylesheet\" type=\"text/css\" />\n",
        "    <link href=\"//fonts.googleapis.com/css?family=Ubuntu+Mono:400,700\" rel=\"stylesheet\" type=\"text/css\" />\n",
        "\n",
        "\n",
        "<script src=\"//d3nslu0hdya83q.cloudfront.net/dist/1.0/raven.min.js\"></script>\n",
        "<script type=\"text/javascript\" src=\"/static/js/plugins/prettify.min.js\"></script>\n",
        "<script type=\"text/javascript\" src=\"/static/js/plugins/prettify_matlab.min.js\"></script>\n",
        "<script type=\"text/javascript\" src=\"/static/js/plugins/prettify_r.min.js\"></script>\n",
        "\n",
        "\n",
        "<!-- mixpanel -->\n",
        "\n",
        "\n",
        "\n",
        "<!-- google analytics -->\n",
        "    <script type=\"text/javascript\">\n",
        "        var _gaq = _gaq || [];\n",
        "        _gaq.push(['_setAccount', 'UA-39373211-1']);\n",
        "        _gaq.push(['_setSiteSpeedSampleRate', 10]);\n",
        "        _gaq.push(['_trackPageview']);\n",
        "\n",
        "        (function() {\n",
        "            var ga = document.createElement('script'); ga.type = 'text/javascript'; ga.async = true;\n",
        "            ga.src = ('https:' == document.location.protocol ? 'https://' : 'http://') + 'stats.g.doubleclick.net/dc.js';\n",
        "            var s = document.getElementsByTagName('script')[0]; s.parentNode.insertBefore(ga, s);\n",
        "        })();\n",
        "    </script>\n",
        "\n",
        "\n",
        "\n",
        "    <style>\n",
        "        .page404 {\n",
        "            padding: 25px;\n",
        "\n",
        "            position: fixed;\n",
        "            top: 50%;\n",
        "            left: 50%;\n",
        "\n",
        "            -webkit-transform: translate(-50%, -50%);\n",
        "            -ms-transform: translate(-50%, -50%);\n",
        "            -o-transform: translate(-50%, -50%);\n",
        "            transform: translate(-50%, -50%);\n",
        "        }\n",
        "\n",
        "        .page404-image {\n",
        "            margin: 0 auto;\n",
        "            display: block;\n",
        "            max-width: 250px;\n",
        "        }\n",
        "    </style>\n",
        "\n",
        "</head>\n",
        "\n",
        "<body>\n",
        "\n",
        "    <div class=\"page404\">\n",
        "        <img class=\"page404-image\" src=\"/static/img/logos/logo.png\" />\n",
        "\n",
        "        <h2 class=\"heading delta\">\n",
        "        Oops! Looks like the graph does not exist.\n",
        "        </h2>\n",
        "    </div>\n",
        "\n",
        "</body>\n",
        "</html>\n"
       ],
       "text": [
        "<plotly.tools.PlotlyDisplay at 0x103940dd0>"
       ]
      }
     ],
     "prompt_number": 553
    },
    {
     "cell_type": "code",
     "collapsed": false,
     "input": [
      "data1=df[['GQUEX','NmOoo']].to_iplot()"
     ],
     "language": "python",
     "metadata": {},
     "outputs": [],
     "prompt_number": 560
    },
    {
     "cell_type": "code",
     "collapsed": false,
     "input": [
      "data2=df.apply(lambda x:x[1]-x[0],axis=1).to_iplot()"
     ],
     "language": "python",
     "metadata": {},
     "outputs": [],
     "prompt_number": 561
    },
    {
     "cell_type": "code",
     "collapsed": false,
     "input": [
      "data2.update({'xaxis':'x2','yaxis':'y2'})"
     ],
     "language": "python",
     "metadata": {},
     "outputs": [],
     "prompt_number": 563
    },
    {
     "cell_type": "code",
     "collapsed": false,
     "input": [
      "Scatter(data2[0])"
     ],
     "language": "python",
     "metadata": {},
     "outputs": [
      {
       "metadata": {},
       "output_type": "pyout",
       "prompt_number": 590,
       "text": [
        "{'line': {'color': 'rgba(255, 153, 51, 1.0)', 'width': 3},\n",
        " 'name': 'Series1',\n",
        " 'type': 'scatter',\n",
        " 'x': ['2000-01-01',\n",
        "  '2000-01-02',\n",
        "  '2000-01-03',\n",
        "  '2000-01-04',\n",
        "  '2000-01-05',\n",
        "  '2000-01-06',\n",
        "  '2000-01-07',\n",
        "  '2000-01-08',\n",
        "  '2000-01-09',\n",
        "  '2000-01-10',\n",
        "  '2000-01-11',\n",
        "  '2000-01-12',\n",
        "  '2000-01-13',\n",
        "  '2000-01-14',\n",
        "  '2000-01-15',\n",
        "  '2000-01-16',\n",
        "  '2000-01-17',\n",
        "  '2000-01-18',\n",
        "  '2000-01-19',\n",
        "  '2000-01-20'],\n",
        " 'xaxis': 'x2',\n",
        " 'y': array([ 41.,  39.,  72.,   0.,   1., -17., -36., -22., -20.,  31.,  13.,\n",
        "         17., -15., -34.,   0.,  42.,  15.,  29.,  83., -28.]),\n",
        " 'yaxis': 'y2'}"
       ]
      }
     ],
     "prompt_number": 590
    },
    {
     "cell_type": "code",
     "collapsed": false,
     "input": [
      "import copy"
     ],
     "language": "python",
     "metadata": {},
     "outputs": [],
     "prompt_number": 601
    },
    {
     "cell_type": "code",
     "collapsed": false,
     "input": [
      "del data1[2]"
     ],
     "language": "python",
     "metadata": {},
     "outputs": [],
     "prompt_number": 591
    },
    {
     "cell_type": "code",
     "collapsed": false,
     "input": [
      "data1.append(Scatter(data2[0]))"
     ],
     "language": "python",
     "metadata": {},
     "outputs": [],
     "prompt_number": 592
    },
    {
     "cell_type": "code",
     "collapsed": false,
     "input": [
      "data1[2].update(fill='tozeroy')"
     ],
     "language": "python",
     "metadata": {},
     "outputs": [],
     "prompt_number": 611
    },
    {
     "cell_type": "code",
     "collapsed": false,
     "input": [
      "layout=pytls.getLayout()"
     ],
     "language": "python",
     "metadata": {},
     "outputs": [],
     "prompt_number": 606
    },
    {
     "cell_type": "code",
     "collapsed": false,
     "input": [
      "layout['yaxis'].update({'domain':[.3,1]})\n",
      "layout['xaxis'].update(showticklabels=True)\n",
      "layout['yaxis2']=copy.deepcopy(layout['yaxis'])\n",
      "layout['xaxis2']=copy.deepcopy(layout['xaxis'])\n",
      "layout['yaxis2'].update(domain=[0,.25],title='Spread')\n",
      "layout['xaxis2'].update(anchor='y2',showticklabels=False)"
     ],
     "language": "python",
     "metadata": {},
     "outputs": [],
     "prompt_number": 607
    },
    {
     "cell_type": "code",
     "collapsed": false,
     "input": [
      "layout"
     ],
     "language": "python",
     "metadata": {},
     "outputs": [
      {
       "metadata": {},
       "output_type": "pyout",
       "prompt_number": 604,
       "text": [
        "{'legend': {'bgcolor': '#151516', 'font': {'color': '#D9D9D9'}},\n",
        " 'paper_bgcolor': '#151516',\n",
        " 'plot_bgcolor': '#151516',\n",
        " 'titlefont': {'color': '#D9D9D9'},\n",
        " 'xaxis': {'gridcolor': '#434343',\n",
        "  'showticklabels': False,\n",
        "  'tickfont': {'color': '#C2C2C2'},\n",
        "  'title': ''},\n",
        " 'xaxis2': {'anchor': 'y2',\n",
        "  'gridcolor': '#434343',\n",
        "  'showticklabels': False,\n",
        "  'tickfont': {'color': '#C2C2C2'},\n",
        "  'title': ''},\n",
        " 'yaxis': {'domain': [0.3, 1],\n",
        "  'gridcolor': '#434343',\n",
        "  'tickfont': {'color': '#C2C2C2'},\n",
        "  'title': '',\n",
        "  'titlefont': {'color': '#D9D9D9'}},\n",
        " 'yaxis2': {'domain': [0, 0.25],\n",
        "  'gridcolor': '#434343',\n",
        "  'tickfont': {'color': '#C2C2C2'},\n",
        "  'title': 'Spread',\n",
        "  'titlefont': {'color': '#D9D9D9'}}}"
       ]
      }
     ],
     "prompt_number": 604
    },
    {
     "cell_type": "code",
     "collapsed": false,
     "input": [
      "df.iplot(data=data1,layout=layout)"
     ],
     "language": "python",
     "metadata": {},
     "outputs": [
      {
       "application/pdf": "[encoded data removed]",
       "html": [
        "<iframe id=\"igraph\" scrolling=\"no\" style=\"border:none;\"seamless=\"seamless\" src=\"https://plot.ly/~jorgesantos/33\" height=\"525\" width=\"100%\"></iframe>"
       ],
       "jpeg": "[encoded data removed]",
       "metadata": {},
       "output_type": "pyout",
       "png": "[encoded data removed]",
       "prompt_number": 612,
       "svg": [
        "\n",
        "<!DOCTYPE html>\n",
        "<html lang=\"en\">\n",
        "<head>\n",
        "    <meta charset=\"UTF-8\">\n",
        "    <title>Plotly</title>\n",
        "    <link href=\"/static/img/ploticons/16px_444444_PNG/plot.png\" rel=\"shortcut icon\" />\n",
        "\n",
        "    \n",
        "\n",
        "\n",
        "<!-- css -->\n",
        "<link rel=\"stylesheet\" href=\"/static/CACHE/css/b37947501532.css\" type=\"text/css\" /><link rel=\"stylesheet\" href=\"/static/CACHE/css/bf4a488e83a1.css\" type=\"text/css\" media=\"all\" /><link rel=\"stylesheet\" href=\"/static/CACHE/css/5f4c0df098d7.css\" type=\"text/css\" />\n",
        "\n",
        "\n",
        "    <link href=\"//netdna.bootstrapcdn.com/font-awesome/3.2.1/css/font-awesome.css\" rel=\"stylesheet\" />\n",
        "    <link href=\"//fonts.googleapis.com/css?family=Open+Sans:600,400,300\" rel=\"stylesheet\" type=\"text/css\" />\n",
        "    <link href=\"//fonts.googleapis.com/css?family=Inconsolata\" rel=\"stylesheet\" type=\"text/css\" />\n",
        "    <link href=\"//fonts.googleapis.com/css?family=Ubuntu+Mono:400,700\" rel=\"stylesheet\" type=\"text/css\" />\n",
        "\n",
        "\n",
        "<script src=\"//d3nslu0hdya83q.cloudfront.net/dist/1.0/raven.min.js\"></script>\n",
        "<script type=\"text/javascript\" src=\"/static/js/plugins/prettify.min.js\"></script>\n",
        "<script type=\"text/javascript\" src=\"/static/js/plugins/prettify_matlab.min.js\"></script>\n",
        "<script type=\"text/javascript\" src=\"/static/js/plugins/prettify_r.min.js\"></script>\n",
        "\n",
        "\n",
        "<!-- mixpanel -->\n",
        "\n",
        "\n",
        "\n",
        "<!-- google analytics -->\n",
        "    <script type=\"text/javascript\">\n",
        "        var _gaq = _gaq || [];\n",
        "        _gaq.push(['_setAccount', 'UA-39373211-1']);\n",
        "        _gaq.push(['_setSiteSpeedSampleRate', 10]);\n",
        "        _gaq.push(['_trackPageview']);\n",
        "\n",
        "        (function() {\n",
        "            var ga = document.createElement('script'); ga.type = 'text/javascript'; ga.async = true;\n",
        "            ga.src = ('https:' == document.location.protocol ? 'https://' : 'http://') + 'stats.g.doubleclick.net/dc.js';\n",
        "            var s = document.getElementsByTagName('script')[0]; s.parentNode.insertBefore(ga, s);\n",
        "        })();\n",
        "    </script>\n",
        "\n",
        "\n",
        "\n",
        "    <style>\n",
        "        .page404 {\n",
        "            padding: 25px;\n",
        "\n",
        "            position: fixed;\n",
        "            top: 50%;\n",
        "            left: 50%;\n",
        "\n",
        "            -webkit-transform: translate(-50%, -50%);\n",
        "            -ms-transform: translate(-50%, -50%);\n",
        "            -o-transform: translate(-50%, -50%);\n",
        "            transform: translate(-50%, -50%);\n",
        "        }\n",
        "\n",
        "        .page404-image {\n",
        "            margin: 0 auto;\n",
        "            display: block;\n",
        "            max-width: 250px;\n",
        "        }\n",
        "    </style>\n",
        "\n",
        "</head>\n",
        "\n",
        "<body>\n",
        "\n",
        "    <div class=\"page404\">\n",
        "        <img class=\"page404-image\" src=\"/static/img/logos/logo.png\" />\n",
        "\n",
        "        <h2 class=\"heading delta\">\n",
        "        Oops! Looks like the graph does not exist.\n",
        "        </h2>\n",
        "    </div>\n",
        "\n",
        "</body>\n",
        "</html>\n"
       ],
       "text": [
        "<plotly.tools.PlotlyDisplay at 0x103940c50>"
       ]
      }
     ],
     "prompt_number": 612
    },
    {
     "cell_type": "code",
     "collapsed": false,
     "input": [
      "data1"
     ],
     "language": "python",
     "metadata": {},
     "outputs": [
      {
       "metadata": {},
       "output_type": "pyout",
       "prompt_number": 610,
       "text": [
        "[{'line': {'color': 'rgba(255, 153, 51, 1.0)', 'width': 3},\n",
        "  'name': 'GQUEX',\n",
        "  'type': 'scatter',\n",
        "  'x': ['2000-01-01',\n",
        "   '2000-01-02',\n",
        "   '2000-01-03',\n",
        "   '2000-01-04',\n",
        "   '2000-01-05',\n",
        "   '2000-01-06',\n",
        "   '2000-01-07',\n",
        "   '2000-01-08',\n",
        "   '2000-01-09',\n",
        "   '2000-01-10',\n",
        "   '2000-01-11',\n",
        "   '2000-01-12',\n",
        "   '2000-01-13',\n",
        "   '2000-01-14',\n",
        "   '2000-01-15',\n",
        "   '2000-01-16',\n",
        "   '2000-01-17',\n",
        "   '2000-01-18',\n",
        "   '2000-01-19',\n",
        "   '2000-01-20'],\n",
        "  'y': array([39, 29,  5,  2, 43, 88, 61, 53, 70, 23, 80, 56, 71, 91, 58, 27, 17,\n",
        "          3,  1, 48])},\n",
        " {'line': {'color': 'rgba(55, 128, 191, 1.0)', 'width': 3},\n",
        "  'name': 'NmOoo',\n",
        "  'type': 'scatter',\n",
        "  'x': ['2000-01-01',\n",
        "   '2000-01-02',\n",
        "   '2000-01-03',\n",
        "   '2000-01-04',\n",
        "   '2000-01-05',\n",
        "   '2000-01-06',\n",
        "   '2000-01-07',\n",
        "   '2000-01-08',\n",
        "   '2000-01-09',\n",
        "   '2000-01-10',\n",
        "   '2000-01-11',\n",
        "   '2000-01-12',\n",
        "   '2000-01-13',\n",
        "   '2000-01-14',\n",
        "   '2000-01-15',\n",
        "   '2000-01-16',\n",
        "   '2000-01-17',\n",
        "   '2000-01-18',\n",
        "   '2000-01-19',\n",
        "   '2000-01-20'],\n",
        "  'y': array([80, 68, 77,  2, 44, 71, 25, 31, 50, 54, 93, 73, 56, 57, 58, 69, 32,\n",
        "         32, 84, 20])},\n",
        " {'fill': 'rgba(55, 128, 191, 0.6)',\n",
        "  'line': {'color': 'rgba(255, 153, 51, 1.0)', 'width': 3},\n",
        "  'name': 'Series1',\n",
        "  'type': 'scatter',\n",
        "  'x': ['2000-01-01',\n",
        "   '2000-01-02',\n",
        "   '2000-01-03',\n",
        "   '2000-01-04',\n",
        "   '2000-01-05',\n",
        "   '2000-01-06',\n",
        "   '2000-01-07',\n",
        "   '2000-01-08',\n",
        "   '2000-01-09',\n",
        "   '2000-01-10',\n",
        "   '2000-01-11',\n",
        "   '2000-01-12',\n",
        "   '2000-01-13',\n",
        "   '2000-01-14',\n",
        "   '2000-01-15',\n",
        "   '2000-01-16',\n",
        "   '2000-01-17',\n",
        "   '2000-01-18',\n",
        "   '2000-01-19',\n",
        "   '2000-01-20'],\n",
        "  'xaxis': 'x2',\n",
        "  'y': array([ 41.,  39.,  72.,   0.,   1., -17., -36., -22., -20.,  31.,  13.,\n",
        "          17., -15., -34.,   0.,  42.,  15.,  29.,  83., -28.]),\n",
        "  'yaxis': 'y2'}]"
       ]
      }
     ],
     "prompt_number": 610
    },
    {
     "cell_type": "code",
     "collapsed": false,
     "input": [
      "def swapcolumns(self):\n",
      "    return self.reindex_axis([self.columns[1],self.columns[0]],axis=1)"
     ],
     "language": "python",
     "metadata": {},
     "outputs": [],
     "prompt_number": 622
    },
    {
     "cell_type": "code",
     "collapsed": false,
     "input": [
      "pd.DataFrame.swapcolumns=swapcolumns"
     ],
     "language": "python",
     "metadata": {},
     "outputs": [],
     "prompt_number": 624
    },
    {
     "cell_type": "code",
     "collapsed": false,
     "input": [
      "df=df.swapcolumns()"
     ],
     "language": "python",
     "metadata": {},
     "outputs": [],
     "prompt_number": 633
    },
    {
     "cell_type": "code",
     "collapsed": false,
     "input": [
      "df.iplot(kind='ratio')"
     ],
     "language": "python",
     "metadata": {},
     "outputs": [
      {
       "application/pdf": "[encoded data removed]",
       "html": [
        "<iframe id=\"igraph\" scrolling=\"no\" style=\"border:none;\"seamless=\"seamless\" src=\"https://plot.ly/~jorgesantos/33\" height=\"525\" width=\"100%\"></iframe>"
       ],
       "jpeg": "[encoded data removed]",
       "metadata": {},
       "output_type": "pyout",
       "png": "[encoded data removed]",
       "prompt_number": 634,
       "svg": [
        "\n",
        "<!DOCTYPE html>\n",
        "<html lang=\"en\">\n",
        "<head>\n",
        "    <meta charset=\"UTF-8\">\n",
        "    <title>Plotly</title>\n",
        "    <link href=\"/static/img/ploticons/16px_444444_PNG/plot.png\" rel=\"shortcut icon\" />\n",
        "\n",
        "    \n",
        "\n",
        "\n",
        "<!-- css -->\n",
        "<link rel=\"stylesheet\" href=\"/static/CACHE/css/b37947501532.css\" type=\"text/css\" /><link rel=\"stylesheet\" href=\"/static/CACHE/css/bf4a488e83a1.css\" type=\"text/css\" media=\"all\" /><link rel=\"stylesheet\" href=\"/static/CACHE/css/5f4c0df098d7.css\" type=\"text/css\" />\n",
        "\n",
        "\n",
        "    <link href=\"//netdna.bootstrapcdn.com/font-awesome/3.2.1/css/font-awesome.css\" rel=\"stylesheet\" />\n",
        "    <link href=\"//fonts.googleapis.com/css?family=Open+Sans:600,400,300\" rel=\"stylesheet\" type=\"text/css\" />\n",
        "    <link href=\"//fonts.googleapis.com/css?family=Inconsolata\" rel=\"stylesheet\" type=\"text/css\" />\n",
        "    <link href=\"//fonts.googleapis.com/css?family=Ubuntu+Mono:400,700\" rel=\"stylesheet\" type=\"text/css\" />\n",
        "\n",
        "\n",
        "<script src=\"//d3nslu0hdya83q.cloudfront.net/dist/1.0/raven.min.js\"></script>\n",
        "<script type=\"text/javascript\" src=\"/static/js/plugins/prettify.min.js\"></script>\n",
        "<script type=\"text/javascript\" src=\"/static/js/plugins/prettify_matlab.min.js\"></script>\n",
        "<script type=\"text/javascript\" src=\"/static/js/plugins/prettify_r.min.js\"></script>\n",
        "\n",
        "\n",
        "<!-- mixpanel -->\n",
        "\n",
        "\n",
        "\n",
        "<!-- google analytics -->\n",
        "    <script type=\"text/javascript\">\n",
        "        var _gaq = _gaq || [];\n",
        "        _gaq.push(['_setAccount', 'UA-39373211-1']);\n",
        "        _gaq.push(['_setSiteSpeedSampleRate', 10]);\n",
        "        _gaq.push(['_trackPageview']);\n",
        "\n",
        "        (function() {\n",
        "            var ga = document.createElement('script'); ga.type = 'text/javascript'; ga.async = true;\n",
        "            ga.src = ('https:' == document.location.protocol ? 'https://' : 'http://') + 'stats.g.doubleclick.net/dc.js';\n",
        "            var s = document.getElementsByTagName('script')[0]; s.parentNode.insertBefore(ga, s);\n",
        "        })();\n",
        "    </script>\n",
        "\n",
        "\n",
        "\n",
        "    <style>\n",
        "        .page404 {\n",
        "            padding: 25px;\n",
        "\n",
        "            position: fixed;\n",
        "            top: 50%;\n",
        "            left: 50%;\n",
        "\n",
        "            -webkit-transform: translate(-50%, -50%);\n",
        "            -ms-transform: translate(-50%, -50%);\n",
        "            -o-transform: translate(-50%, -50%);\n",
        "            transform: translate(-50%, -50%);\n",
        "        }\n",
        "\n",
        "        .page404-image {\n",
        "            margin: 0 auto;\n",
        "            display: block;\n",
        "            max-width: 250px;\n",
        "        }\n",
        "    </style>\n",
        "\n",
        "</head>\n",
        "\n",
        "<body>\n",
        "\n",
        "    <div class=\"page404\">\n",
        "        <img class=\"page404-image\" src=\"/static/img/logos/logo.png\" />\n",
        "\n",
        "        <h2 class=\"heading delta\">\n",
        "        Oops! Looks like the graph does not exist.\n",
        "        </h2>\n",
        "    </div>\n",
        "\n",
        "</body>\n",
        "</html>\n"
       ],
       "text": [
        "<plotly.tools.PlotlyDisplay at 0x103940550>"
       ]
      }
     ],
     "prompt_number": 634
    },
    {
     "cell_type": "code",
     "collapsed": false,
     "input": [],
     "language": "python",
     "metadata": {},
     "outputs": []
    }
   ],
   "metadata": {}
  }
 ]
}